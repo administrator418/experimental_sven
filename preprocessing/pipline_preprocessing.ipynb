{
 "cells": [
  {
   "cell_type": "code",
   "execution_count": 1,
   "metadata": {},
   "outputs": [],
   "source": [
    "import shutil\n",
    "import re\n",
    "import os\n",
    "import numpy as np\n",
    "import pandas as pd\n",
    "import matplotlib.pyplot as plt\n",
    "import os\n",
    "import imageio.v3\n",
    "import time\n",
    "import cv2\n",
    "import csv\n",
    "from numpy import linalg \n",
    "from PIL import Image \n",
    "import matplotlib.pyplot as plt\n",
    "from skimage.color import label2rgb\n",
    "import imageio.v3 as iio\n",
    "from skimage import filters\n",
    "#from skimage.color import rgb2gray          \n",
    "from skimage.measure import regionprops"
   ]
  },
  {
   "cell_type": "code",
   "execution_count": 8,
   "metadata": {},
   "outputs": [],
   "source": [
    "input_folder_phasemask = r'\\\\srvditz1\\lac\\Studenten\\AE_VoE_Stud\\Sven Burckhard\\Datenaufnahme\\Raw_Data_Ditzingen_Vortex_Abb08_New\\First_200_check\\phasemask'\n",
    "output_folder_phasemask = r'\\\\srvditz1\\lac\\Studenten\\AE_VoE_Stud\\Sven Burckhard\\Predict_Phasemask\\Evaluation_Vortex\\phasemask_preprocessed'\n",
    "\n",
    "camera1_path = r'\\\\srvditz1\\lac\\Studenten\\AE_VoE_Stud\\Sven Burckhard\\Predict_Phasemask\\Evaluation_Vortex\\camera_1_predict'\n",
    "camera2_path = r'\\\\srvditz1\\lac\\Studenten\\AE_VoE_Stud\\Sven Burckhard\\Predict_Phasemask\\Evaluation_Vortex\\camera_1_predict'\n",
    "\n",
    "#crop\n",
    "reference_image_focus = iio.imread(r'\\\\srvditz1\\lac\\Studenten\\AE_VoE_Stud\\Sven Burckhard\\Datenaufnahme\\Raw_Data_Ditzingen_Vortex_Abb08_New\\reference_image_focus_vortex.png')\n",
    "reference_image_defocus = iio.imread(r'\\\\srvditz1\\lac\\Studenten\\AE_VoE_Stud\\Sven Burckhard\\Datenaufnahme\\Raw_Data_Ditzingen_Vortex_Abb08_New\\reference_image_defocus_vortex.png')\n",
    "\n",
    "origin_camera1_crop = camera1_path\n",
    "target_camera1_crop = r'\\\\srvditz1\\lac\\Studenten\\AE_VoE_Stud\\Sven Burckhard\\Datenaufnahme\\Raw_Data_Ditzingen_Vortex_Abb08_New\\camera_2_crop'\n",
    "\n",
    "origin_camera2_crop = camera2_path\n",
    "target_camera2_crop = r'\\\\srvditz1\\lac\\Studenten\\AE_VoE_Stud\\Sven Burckhard\\Datenaufnahme\\Raw_Data_Ditzingen_Vortex_Abb08_New\\camera_2_crop'"
   ]
  },
  {
   "cell_type": "markdown",
   "metadata": {},
   "source": [
    "Preprocess Phasemask"
   ]
  },
  {
   "cell_type": "code",
   "execution_count": 3,
   "metadata": {},
   "outputs": [
    {
     "name": "stdout",
     "output_type": "stream",
     "text": [
      "Completed transferring images with indexed filenames.\n"
     ]
    }
   ],
   "source": [
    "def natural_sort_key(s):\n",
    "    return [int(text) if text.isdigit() else text.lower() for text in re.split('(\\d+)', s)]\n",
    "\n",
    "\n",
    "if not os.path.exists(output_folder_phasemask):\n",
    "    os.makedirs(output_folder_phasemask)\n",
    "\n",
    "try:\n",
    "    files = [file for file in os.listdir(input_folder_phasemask) if file.lower().endswith('.png')]\n",
    "    sorted_files = sorted(files, key=natural_sort_key)\n",
    "\n",
    "    for idx, filename in enumerate(sorted_files, start=1):\n",
    "        new_filename = f\"{idx}_idx_{filename}\"\n",
    "        input_img_path = os.path.join(input_folder_phasemask, filename)\n",
    "        output_img_path = os.path.join(output_folder_phasemask, new_filename)\n",
    "        \n",
    "        shutil.copy2(input_img_path, output_img_path)\n",
    "        \n",
    "\n",
    "    print(\"Completed transferring images with indexed filenames.\")\n",
    "except Exception as e:\n",
    "    print(f\"An error occurred: {e}\")"
   ]
  },
  {
   "cell_type": "code",
   "execution_count": 4,
   "metadata": {},
   "outputs": [],
   "source": [
    "# Cropping the phasemask in the output_folder_phasemask\n",
    "from methods import crop_around_center\n",
    "\n",
    "\n",
    "for filename in os.listdir(output_folder_phasemask):\n",
    "    if filename.lower().endswith(('.png')):\n",
    "        \n",
    "        image_path = os.path.join(output_folder_phasemask, filename)\n",
    "        save_path = os.path.join(output_folder_phasemask, filename)\n",
    "        \n",
    "        try:\n",
    "            crop_around_center(image_path, save_path)\n",
    "        except Exception as e:\n",
    "            print(f\"Error processing image {filename}: {e}\")"
   ]
  },
  {
   "cell_type": "markdown",
   "metadata": {},
   "source": [
    "Delete Oversaturated images"
   ]
  },
  {
   "cell_type": "code",
   "execution_count": 5,
   "metadata": {},
   "outputs": [],
   "source": [
    "from PIL import Image\n",
    "import numpy as np\n",
    "\n",
    "def oversaturation(image_path, pixel_count_threshold=10): #Analyse a few oversaturated images.\n",
    "    img = Image.open(image_path)\n",
    "    img_array = np.array(img)\n",
    "    oversaturated_pixels = np.sum(img_array == 255)\n",
    "    return oversaturated_pixels > pixel_count_threshold\n",
    "\n",
    "def delete_oversaturated_images(folder_path, pixel_count_threshold=10):\n",
    "    files = os.listdir(folder_path)\n",
    "    for filename in files:\n",
    "        if filename.endswith('.png') or filename.endswith('.jpg') or filename.endswith('.jpeg'):\n",
    "            image_path = os.path.join(folder_path, filename)\n",
    "            if oversaturation(image_path, pixel_count_threshold):\n",
    "                os.remove(image_path)\n",
    "                #print(f\"Deleted oversaturated image: {filename}\")"
   ]
  },
  {
   "cell_type": "code",
   "execution_count": 9,
   "metadata": {},
   "outputs": [],
   "source": [
    "delete_oversaturated_images(camera1_path)\n",
    "delete_oversaturated_images(camera2_path)"
   ]
  },
  {
   "cell_type": "code",
   "execution_count": 10,
   "metadata": {},
   "outputs": [],
   "source": [
    "import os\n",
    "from concurrent.futures import ThreadPoolExecutor\n",
    "\n",
    "ordner1 = camera1_path\n",
    "ordner2 = camera2_path\n",
    "ordner3 = output_folder_phasemask\n",
    "\n",
    "# Listen der Dateien in jedem Ordner erstellen\n",
    "dateien_ordner1 = set(os.listdir(ordner1))\n",
    "dateien_ordner2 = set(os.listdir(ordner2))\n",
    "dateien_ordner3 = set(os.listdir(ordner3))\n",
    "\n",
    "def loesche_dateien(index):\n",
    "    dateiname = f\"{index}_idx_\"\n",
    "\n",
    "    pfad1 = next((os.path.join(ordner1, f) for f in dateien_ordner1 if f.startswith(dateiname)), None)\n",
    "    pfad2 = next((os.path.join(ordner2, f) for f in dateien_ordner2 if f.startswith(dateiname)), None)\n",
    "    pfad3 = next((os.path.join(ordner3, f) for f in dateien_ordner3 if f.startswith(dateiname)), None)\n",
    "    \n",
    "    if not (pfad1 and pfad2 and pfad3):\n",
    "        if pfad1:\n",
    "            os.remove(pfad1)\n",
    "            #print(f\"Gelöscht: {pfad1}\")\n",
    "        if pfad2:\n",
    "            os.remove(pfad2)\n",
    "            #print(f\"Gelöscht: {pfad2}\")\n",
    "        if pfad3:\n",
    "            os.remove(pfad3)\n",
    "            #print(f\"Gelöscht: {pfad3}\")\n",
    "\n",
    "def main():\n",
    "    n = 25000  # Anzahl der Indizes\n",
    "\n",
    "    with ThreadPoolExecutor() as executor:\n",
    "        executor.map(loesche_dateien, range(1, n + 1))\n",
    "\n",
    "if __name__ == \"__main__\":\n",
    "    main()\n"
   ]
  },
  {
   "cell_type": "markdown",
   "metadata": {},
   "source": [
    "Noise Filtering"
   ]
  },
  {
   "cell_type": "code",
   "execution_count": 12,
   "metadata": {},
   "outputs": [],
   "source": [
    "import os\n",
    "import imageio\n",
    "from PIL import Image\n",
    "import numpy as np\n",
    "from methods import background_substraction"
   ]
  },
  {
   "cell_type": "code",
   "execution_count": 14,
   "metadata": {},
   "outputs": [],
   "source": [
    "for filename in os.listdir(camera1_path):\n",
    "    if filename.endswith('.png'):\n",
    "        input_img_path = os.path.join(camera1_path, filename)\n",
    "        output_img_path = os.path.join(camera1_path, filename)\n",
    "        #print(f'Processing {input_img_path}')\n",
    "\n",
    "        \n",
    "        processed_image = background_substraction(input_img_path)\n",
    "        processed_image = processed_image.convert('L')\n",
    "        processed_image.save(output_img_path)"
   ]
  },
  {
   "cell_type": "code",
   "execution_count": 15,
   "metadata": {},
   "outputs": [],
   "source": [
    "for filename in os.listdir(camera2_path):\n",
    "    if filename.endswith('.png'):\n",
    "        input_img_path = os.path.join(camera2_path, filename)\n",
    "        output_img_path = os.path.join(camera2_path, filename)\n",
    "        #print(f'Processing {input_img_path}')\n",
    "\n",
    "        \n",
    "        processed_image = background_substraction(input_img_path)\n",
    "        processed_image = processed_image.convert('L')\n",
    "        processed_image.save(output_img_path)"
   ]
  },
  {
   "cell_type": "markdown",
   "metadata": {},
   "source": [
    "# Crop images"
   ]
  },
  {
   "cell_type": "code",
   "execution_count": null,
   "metadata": {},
   "outputs": [],
   "source": [
    "import cv2\n",
    "import numpy as np\n",
    "import matplotlib.pyplot as plt"
   ]
  },
  {
   "cell_type": "markdown",
   "metadata": {},
   "source": [
    "focus image"
   ]
  },
  {
   "cell_type": "code",
   "execution_count": null,
   "metadata": {},
   "outputs": [],
   "source": [
    "img_array = np.asarray(reference_image_focus)\n",
    "\n",
    "#image = img_array / 255.0\n",
    "print(f\"Image_sub_background: {img_array}\")\n",
    "plt.title(\"Image_sub_background\")\n",
    "plt.imshow(img_array)\n",
    "plt.show()"
   ]
  },
  {
   "cell_type": "code",
   "execution_count": null,
   "metadata": {},
   "outputs": [],
   "source": [
    "import numpy as np\n",
    "import matplotlib.pyplot as plt\n",
    "from skimage import filters, color\n",
    "from skimage.color import label2rgb\n",
    "from skimage.measure import regionprops\n",
    "# img_sub_background\n",
    "print(f\"Shape: {reference_image_focus.shape}\")\n",
    "print(f\"Max_image_sub_background: {np.max(reference_image_focus)}\")\n",
    "image = reference_image_focus\n",
    "\n",
    "# If the input image has thgree channels\n",
    "image = color.rgb2gray(reference_image_focus) \n",
    "\n",
    "threshold_value = filters.threshold_otsu(image)\n",
    "#threshold_value = 0.65 # for gaussian camera 1\n",
    "\n",
    "# image with only 1 and 0\n",
    "labeled_foreground = (image > threshold_value).astype(int)\n",
    "print(np.max(labeled_foreground))\n",
    "properties = regionprops(labeled_foreground, image)\n",
    "center_of_mass = properties[0].centroid\n",
    "weighted_center_of_mass = properties[0].weighted_centroid\n",
    "print(f\"(y,x) {center_of_mass}\")\n",
    "\n",
    "\n",
    "#Plot the image then 3 channels\n",
    "colorized = label2rgb(labeled_foreground, image, colors=['black', 'red'], alpha=0.1)\n",
    "fig, ax = plt.subplots()\n",
    "ax.imshow(colorized)\n",
    "\n",
    "\n",
    "\n",
    "\n",
    "# Note the inverted coordinates because plt uses (x, y) while NumPy uses (row, column)\n",
    "ax.scatter(center_of_mass[1], center_of_mass[0], s=160, c='C0', marker='+')\n",
    "plt.show()\n"
   ]
  },
  {
   "cell_type": "code",
   "execution_count": null,
   "metadata": {},
   "outputs": [],
   "source": [
    "center_of_mass_final=[center_of_mass[0],center_of_mass[1]]\n",
    "\n",
    "print(center_of_mass_final)"
   ]
  },
  {
   "cell_type": "code",
   "execution_count": null,
   "metadata": {},
   "outputs": [],
   "source": [
    "from methods import crop_beam\n",
    "image_cropped = crop_beam(image,center_of_mass_final, crop_size=512)\n",
    "print(type(image_cropped))\n",
    "plt.title(\"Beam_cropped\")\n",
    "plt.imshow(image_cropped)\n",
    "plt.show()"
   ]
  },
  {
   "cell_type": "code",
   "execution_count": null,
   "metadata": {},
   "outputs": [],
   "source": [
    "for filename in os.listdir(origin_camera1_crop):\n",
    "    if filename.lower().endswith(('.bmp','.png')):\n",
    "        full_path = os.path.join(origin_camera1_crop, filename)\n",
    "        target_path = os.path.join(target_camera1_crop, filename)\n",
    "\n",
    "        \n",
    "        if os.path.exists(target_path):\n",
    "            #print(f\"{filename} already exists in the target folder, skipping.\")\n",
    "            continue\n",
    "        \n",
    "        \n",
    "        image = cv2.imread(full_path)\n",
    "        cropped_image = crop_beam(image,center_of_mass=center_of_mass_final,crop_size=512)\n",
    "        cv2.imwrite(target_path, cropped_image) \n",
    "        print(\"save\")\n",
    "        \n",
    "print(\"All images have been successfully cropped and saved in the target folder.\")"
   ]
  },
  {
   "cell_type": "markdown",
   "metadata": {},
   "source": [
    "defocus camera"
   ]
  },
  {
   "cell_type": "code",
   "execution_count": null,
   "metadata": {},
   "outputs": [],
   "source": [
    "img_array = np.asarray(reference_image_defocus)\n",
    "\n",
    "#image = img_array / 255.0\n",
    "print(f\"Image_sub_background: {img_array}\")\n",
    "plt.title(\"Image_sub_background\")\n",
    "plt.imshow(img_array)\n",
    "plt.show()"
   ]
  },
  {
   "cell_type": "code",
   "execution_count": null,
   "metadata": {},
   "outputs": [],
   "source": [
    "import numpy as np\n",
    "import matplotlib.pyplot as plt\n",
    "from skimage import filters, color\n",
    "from skimage.color import label2rgb\n",
    "from skimage.measure import regionprops\n",
    "# img_sub_background\n",
    "print(f\"Shape: {reference_image_focus.shape}\")\n",
    "print(f\"Max_image_sub_background: {np.max(reference_image_focus)}\")\n",
    "image = reference_image_focus\n",
    "\n",
    "# If the input image has thgree channels\n",
    "image = color.rgb2gray(reference_image_focus) \n",
    "\n",
    "threshold_value = filters.threshold_otsu(image)\n",
    "#threshold_value = 0.65 # for gaussian camera 1\n",
    "\n",
    "# image with only 1 and 0\n",
    "labeled_foreground = (image > threshold_value).astype(int)\n",
    "print(np.max(labeled_foreground))\n",
    "properties = regionprops(labeled_foreground, image)\n",
    "center_of_mass = properties[0].centroid\n",
    "weighted_center_of_mass = properties[0].weighted_centroid\n",
    "print(f\"(y,x) {center_of_mass}\")\n",
    "\n",
    "\n",
    "#Plot the image then 3 channels\n",
    "colorized = label2rgb(labeled_foreground, image, colors=['black', 'red'], alpha=0.1)\n",
    "fig, ax = plt.subplots()\n",
    "ax.imshow(colorized)\n",
    "\n",
    "\n",
    "\n",
    "\n",
    "# Note the inverted coordinates because plt uses (x, y) while NumPy uses (row, column)\n",
    "ax.scatter(center_of_mass[1], center_of_mass[0], s=160, c='C0', marker='+')\n",
    "plt.show()\n"
   ]
  },
  {
   "cell_type": "code",
   "execution_count": null,
   "metadata": {},
   "outputs": [],
   "source": [
    "center_of_mass_final=[center_of_mass[0],center_of_mass[1]]\n",
    "\n",
    "print(center_of_mass_final)"
   ]
  },
  {
   "cell_type": "code",
   "execution_count": null,
   "metadata": {},
   "outputs": [],
   "source": [
    "from methods import crop_beam\n",
    "image_cropped = crop_beam(image,center_of_mass_final, crop_size=512)\n",
    "print(type(image_cropped))\n",
    "plt.title(\"Beam_cropped\")\n",
    "plt.imshow(image_cropped)\n",
    "plt.show()"
   ]
  },
  {
   "cell_type": "code",
   "execution_count": null,
   "metadata": {},
   "outputs": [],
   "source": [
    "for filename in os.listdir(origin_camera2_crop):\n",
    "    if filename.lower().endswith(('.bmp','.png')):\n",
    "        full_path = os.path.join(origin_camera2_crop, filename)\n",
    "        target_path = os.path.join(target_camera2_crop, filename)\n",
    "\n",
    "        \n",
    "        if os.path.exists(target_path):\n",
    "            #print(f\"{filename} already exists in the target folder, skipping.\")\n",
    "            continue\n",
    "        \n",
    "        \n",
    "        image = cv2.imread(full_path)\n",
    "        cropped_image = crop_beam(image,center_of_mass=center_of_mass_final,crop_size=512)\n",
    "        cv2.imwrite(target_path, cropped_image) \n",
    "        print(\"save\")\n",
    "        \n",
    "print(\"All images have been successfully cropped and saved in the target folder.\")"
   ]
  }
 ],
 "metadata": {
  "kernelspec": {
   "display_name": "Python 3",
   "language": "python",
   "name": "python3"
  },
  "language_info": {
   "codemirror_mode": {
    "name": "ipython",
    "version": 3
   },
   "file_extension": ".py",
   "mimetype": "text/x-python",
   "name": "python",
   "nbconvert_exporter": "python",
   "pygments_lexer": "ipython3",
   "version": "3.10.11"
  }
 },
 "nbformat": 4,
 "nbformat_minor": 2
}
