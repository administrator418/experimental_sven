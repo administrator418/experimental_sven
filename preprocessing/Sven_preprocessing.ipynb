{
 "cells": [
  {
   "cell_type": "code",
   "execution_count": 1,
   "metadata": {},
   "outputs": [],
   "source": [
    "import numpy as np\n",
    "import pandas as pd\n",
    "import matplotlib.pyplot as plt\n",
    "import os\n",
    "import imageio.v3\n",
    "import time\n",
    "import cv2\n",
    "import csv\n",
    "from numpy import linalg \n",
    "from PIL import Image \n",
    "import matplotlib.pyplot as plt\n",
    "from skimage.color import label2rgb\n",
    "import imageio.v3 as iio\n",
    "from skimage import filters\n",
    "#from skimage.color import rgb2gray          \n",
    "from skimage.measure import regionprops\n",
    "#from skimage.transform import rescale, resize, downscale_local_mean"
   ]
  },
  {
   "cell_type": "markdown",
   "metadata": {},
   "source": [
    "# 0. Check the Dataset Order"
   ]
  },
  {
   "cell_type": "code",
   "execution_count": 4,
   "metadata": {},
   "outputs": [
    {
     "name": "stdout",
     "output_type": "stream",
     "text": [
      "All files are in the correct sequence.\n"
     ]
    },
    {
     "data": {
      "text/plain": [
       "True"
      ]
     },
     "execution_count": 4,
     "metadata": {},
     "output_type": "execute_result"
    }
   ],
   "source": [
    "import os\n",
    "import re\n",
    "\n",
    "def check_sequence(folder_path):\n",
    "    # Liste der Dateien im Ordner abrufen und nach Namen sortieren\n",
    "    files = sorted(os.listdir(folder_path))\n",
    "\n",
    "    # Regex, um die Bilddateien mit dem Format *_x.png zu finden\n",
    "    pattern = re.compile(r'(.+)_([0-9])\\.png')\n",
    "\n",
    "    # Überprüfen der Reihenfolge\n",
    "    expected_indices = [0, 1, 1]\n",
    "    expected_index_pos = 0\n",
    "\n",
    "    for file in files:\n",
    "        match = pattern.match(file)\n",
    "        if match:\n",
    "            current_index = int(match.group(2))\n",
    "\n",
    "            # Wenn der aktuelle Index nicht dem erwarteten Index entspricht, Fehler melden\n",
    "            if current_index != expected_indices[expected_index_pos]:\n",
    "                print(f\"Error: {file} is out of sequence. Expected index: {expected_indices[expected_index_pos]}\")\n",
    "                return False\n",
    "\n",
    "            # Nächsten erwarteten Index berechnen\n",
    "            expected_index_pos = (expected_index_pos + 1) % len(expected_indices)\n",
    "\n",
    "    print(\"All files are in the correct sequence.\")\n",
    "    return True\n",
    "\n",
    "# Pfad zum Ordner mit den Bildern\n",
    "folder_path = r'C:\\Users\\burckhardsv\\Lokale_Dateien\\Schramberg\\Schramberg_Datacollection\\Schramberg_Datacollection\\check'\n",
    "\n",
    "# Überprüfen der Reihenfolge der Bilder\n",
    "check_sequence(folder_path)\n"
   ]
  },
  {
   "cell_type": "markdown",
   "metadata": {},
   "source": [
    "# 0. index hinzufügen"
   ]
  },
  {
   "cell_type": "markdown",
   "metadata": {},
   "source": [
    "Phasemasks"
   ]
  },
  {
   "cell_type": "code",
   "execution_count": 26,
   "metadata": {},
   "outputs": [
    {
     "name": "stdout",
     "output_type": "stream",
     "text": [
      "Completed transferring images with indexed filenames.\n"
     ]
    }
   ],
   "source": [
    "import os\n",
    "import shutil\n",
    "import re\n",
    "\n",
    "def natural_sort_key(s):\n",
    "    return [int(text) if text.isdigit() else text.lower() for text in re.split('(\\d+)', s)]\n",
    "\n",
    "input_folder = r'C:\\Users\\burckhardsv\\Lokale_Dateien\\Schramberg\\Schramberg_Datacollection\\Schramberg_Datacollection\\Evaluation_2\\phasemask_prediction'\n",
    "output_folder = r'C:\\Users\\burckhardsv\\Lokale_Dateien\\Schramberg\\Schramberg_Datacollection\\Schramberg_Datacollection\\Evaluation_2\\phasemask_prediction_index'\n",
    "\n",
    "if not os.path.exists(output_folder):\n",
    "    os.makedirs(output_folder)\n",
    "\n",
    "try:\n",
    "    files = [file for file in os.listdir(input_folder) if file.lower().endswith('.png')]\n",
    "    sorted_files = sorted(files, key=natural_sort_key)\n",
    "\n",
    "    for idx, filename in enumerate(sorted_files, start=13765):\n",
    "        new_filename = f\"{idx}_idx_{filename}\"\n",
    "        input_img_path = os.path.join(input_folder, filename)\n",
    "        output_img_path = os.path.join(output_folder, new_filename)\n",
    "        \n",
    "        shutil.copy2(input_img_path, output_img_path)\n",
    "        \n",
    "\n",
    "    print(\"Completed transferring images with indexed filenames.\")\n",
    "except Exception as e:\n",
    "    print(f\"An error occurred: {e}\")\n",
    "\n"
   ]
  },
  {
   "cell_type": "markdown",
   "metadata": {},
   "source": [
    "NF/FF"
   ]
  },
  {
   "cell_type": "code",
   "execution_count": 23,
   "metadata": {},
   "outputs": [
    {
     "name": "stdout",
     "output_type": "stream",
     "text": [
      "Completed transferring images with indexed filenames.\n"
     ]
    }
   ],
   "source": [
    "import os\n",
    "import shutil\n",
    "\n",
    "input_folder = r'\\\\srvditz1\\lac\\Studenten\\AE_VoE_Stud\\Sven Burckhard\\Predict_Phasemask\\Evaluation_Gaussian\\phasemask_unwrapped_prediction'\n",
    "output_folder = r'\\\\srvditz1\\lac\\Studenten\\AE_VoE_Stud\\Sven Burckhard\\Predict_Phasemask\\Evaluation_Gaussian\\phasemask_unwrapped_prediction_index'\n",
    "\n",
    "\n",
    "\n",
    "os.makedirs(output_folder, exist_ok=True)\n",
    "\n",
    "files = os.listdir(input_folder)  \n",
    "files.sort()  # Thats extrem important windows is strange\n",
    "\n",
    "for idx, filename in enumerate(files, start=1):\n",
    "    if filename.lower().endswith('.png'):\n",
    "        new_filename = f\"{idx}_idx_{filename}\"\n",
    "        input_img_path = os.path.join(input_folder, filename)\n",
    "        output_img_path = os.path.join(output_folder, new_filename)\n",
    "        \n",
    "        shutil.copy2(input_img_path, output_img_path)\n",
    "        #print(f\"Copied '{input_img_path}' to '{output_img_path}'\")\n",
    "\n",
    "print(\"Completed transferring images with indexed filenames.\")\n",
    "\n"
   ]
  },
  {
   "cell_type": "markdown",
   "metadata": {},
   "source": [
    "Delte all indexes where i don't have nff and ff."
   ]
  },
  {
   "cell_type": "code",
   "execution_count": 5,
   "metadata": {},
   "outputs": [],
   "source": [
    "import os\n",
    "from concurrent.futures import ThreadPoolExecutor\n",
    "\n",
    "ordner1 = r'\\\\srvditz1\\lac\\Studenten\\AE_VoE_Stud\\Sven Burckhard\\Datenaufnahme\\Raw_Data_Ditzingen_Gaussian_Abb08\\camera_1_total_index'\n",
    "ordner2 = r'\\\\srvditz1\\lac\\Studenten\\AE_VoE_Stud\\Sven Burckhard\\Datenaufnahme\\Raw_Data_Ditzingen_Gaussian_Abb08\\camera_2_total_index'\n",
    "ordner3 = r'\\\\srvditz1\\lac\\Studenten\\AE_VoE_Stud\\Sven Burckhard\\Datenaufnahme\\Raw_Data_Ditzingen_Gaussian_Abb08\\phasemask_total_index_crop'\n",
    "\n",
    "# Listen der Dateien in jedem Ordner erstellen\n",
    "dateien_ordner1 = set(os.listdir(ordner1))\n",
    "dateien_ordner2 = set(os.listdir(ordner2))\n",
    "dateien_ordner3 = set(os.listdir(ordner3))\n",
    "\n",
    "def loesche_dateien(index):\n",
    "    dateiname = f\"{index}_idx_\"\n",
    "\n",
    "    pfad1 = next((os.path.join(ordner1, f) for f in dateien_ordner1 if f.startswith(dateiname)), None)\n",
    "    pfad2 = next((os.path.join(ordner2, f) for f in dateien_ordner2 if f.startswith(dateiname)), None)\n",
    "    pfad3 = next((os.path.join(ordner3, f) for f in dateien_ordner3 if f.startswith(dateiname)), None)\n",
    "    \n",
    "    if not (pfad1 and pfad2 and pfad3):\n",
    "        if pfad1:\n",
    "            os.remove(pfad1)\n",
    "            #print(f\"Gelöscht: {pfad1}\")\n",
    "        if pfad2:\n",
    "            os.remove(pfad2)\n",
    "            #print(f\"Gelöscht: {pfad2}\")\n",
    "        if pfad3:\n",
    "            os.remove(pfad3)\n",
    "            #print(f\"Gelöscht: {pfad3}\")\n",
    "\n",
    "def main():\n",
    "    n = 25000  # Anzahl der Indizes\n",
    "\n",
    "    with ThreadPoolExecutor() as executor:\n",
    "        executor.map(loesche_dateien, range(1, n + 1))\n",
    "\n",
    "if __name__ == \"__main__\":\n",
    "    main()\n"
   ]
  },
  {
   "cell_type": "markdown",
   "metadata": {},
   "source": [
    "# 1. Phasemasks Crop"
   ]
  },
  {
   "cell_type": "code",
   "execution_count": 24,
   "metadata": {},
   "outputs": [],
   "source": [
    "from methods import crop_around_center\n",
    "\n",
    "origin = r'C:\\Users\\burckhardsv\\Lokale_Dateien\\Schramberg\\Schramberg_Datacollection\\Schramberg_Datacollection\\phase_unwrapped_index'\n",
    "target = r'C:\\Users\\burckhardsv\\Lokale_Dateien\\Schramberg\\Schramberg_Datacollection\\Schramberg_Datacollection\\phase_unwrapped_index_crop'\n",
    "\n",
    "for filename in os.listdir(origin):\n",
    "    if filename.lower().endswith(('.png')):\n",
    "        \n",
    "        image_path = os.path.join(origin, filename)\n",
    "        save_path = os.path.join(target, filename)\n",
    "        \n",
    "        try:\n",
    "            crop_around_center(image_path, save_path)\n",
    "        except Exception as e:\n",
    "            print(f\"Error processing image {filename}: {e}\")"
   ]
  },
  {
   "cell_type": "markdown",
   "metadata": {},
   "source": [
    "# 2. FF / NF Preprocessing"
   ]
  },
  {
   "cell_type": "markdown",
   "metadata": {},
   "source": [
    "## 2.1 Cleaning the overexposure images"
   ]
  },
  {
   "cell_type": "code",
   "execution_count": 9,
   "metadata": {},
   "outputs": [],
   "source": [
    "from PIL import Image\n",
    "import numpy as np\n",
    "\n",
    "def oversaturation(image_path, pixel_count_threshold=50): #Analyse a few oversaturated images.\n",
    "    img = Image.open(image_path)\n",
    "    img_array = np.array(img)\n",
    "    oversaturated_pixels = np.sum(img_array == 255)\n",
    "    return oversaturated_pixels > pixel_count_threshold\n",
    "\n",
    "def delete_oversaturated_images(folder_path, pixel_count_threshold=10):\n",
    "    files = os.listdir(folder_path)\n",
    "    for filename in files:\n",
    "        if filename.endswith('.png') or filename.endswith('.jpg') or filename.endswith('.jpeg'):\n",
    "            image_path = os.path.join(folder_path, filename)\n",
    "            if oversaturation(image_path, pixel_count_threshold):\n",
    "                os.remove(image_path)\n",
    "                #print(f\"Deleted oversaturated image: {filename}\")"
   ]
  },
  {
   "cell_type": "code",
   "execution_count": 10,
   "metadata": {},
   "outputs": [],
   "source": [
    "# Beispielaufruf:\n",
    "input_folder = r'C:\\Users\\burckhardsv\\Lokale_Dateien\\Schramberg\\Schramberg_Datacollection\\Schramberg_Datacollection\\camera_2_oversaturrated'\n",
    "delete_oversaturated_images(input_folder)"
   ]
  },
  {
   "cell_type": "markdown",
   "metadata": {},
   "source": [
    "## 2.2 Noise filtering [Not doing anything at the moment]"
   ]
  },
  {
   "cell_type": "markdown",
   "metadata": {},
   "source": [
    "#### Noise filtering for one image"
   ]
  },
  {
   "cell_type": "code",
   "execution_count": null,
   "metadata": {},
   "outputs": [],
   "source": [
    "from methods import background_substraction\n",
    "input_folder = r'\\\\srvditz1\\lac\\Studenten\\AE_VoE_Stud\\Sven Burckhard\\Experimental_data\\Ditzingen_Gaussian\\Dataset_Ditzingen_no_resize_4000_img\\camera_2_v3_4000img_index'\n",
    "output_folder = r'\\\\srvditz1\\lac\\Studenten\\AE_VoE_Stud\\Sven Burckhard\\Datasets\\Synthetic_Gaussian_Noise_preprocessed\\check.png' # focus\n",
    "\n",
    "# input_folder = r'\\\\srvditz1\\lac\\Studenten\\AE_VoE_Stud\\Sven Burckhard\\Experimental_data\\Ditzingen_Gaussian\\camera_1_v3\\2024-04-04 14-02-06.png'\n",
    "# output_folder = r'\\\\srvditz1\\lac\\Studenten\\AE_VoE_Stud\\Sven Burckhard\\Datasets\\Synthetic_Gaussian_Noise_preprocessed\\beam_nf_ditzingen_real_region_size_30.png'\n",
    "\n",
    "image_without_noise = background_substraction(input_folder)\n",
    "image_without_noise = image_without_noise.convert('L')\n",
    "image_without_noise.save(output_folder)\n",
    "\n",
    "array = np.asarray(image_without_noise)\n",
    "print(array)\n",
    "dataframe= pd.DataFrame(array)\n",
    "dataframe.to_excel(r'\\\\srvditz1\\lac\\Studenten\\AE_VoE_Stud\\Sven Burckhard\\Datasets\\Synthetic_Gaussian_Noise_preprocessed\\check.xlsx')\n"
   ]
  },
  {
   "cell_type": "code",
   "execution_count": null,
   "metadata": {},
   "outputs": [],
   "source": [
    "# Testing on spesific Image\n",
    "image_path = r'\\\\srvditz1\\lac\\Studenten\\AE_VoE_Stud\\Sven Burckhard\\Datasets\\Synthetic_Gaussian_Noise_preprocessed\\Synthetic_with_noise_2000img\\train\\beam_ff\\3202.png'\n",
    "img = Image.open(image_path)\n",
    "img= img.convert('L')\n",
    "img_array= np.asarray(img)\n",
    "dataframe = pd.DataFrame(img_array)\n",
    "dataframe.to_excel(r'\\\\srvditz1\\lac\\Studenten\\AE_VoE_Stud\\Sven Burckhard\\Datasets\\Synthetic_Gaussian_Noise_preprocessed\\check.xlsx')"
   ]
  },
  {
   "cell_type": "markdown",
   "metadata": {},
   "source": [
    "#### Noise Filetering"
   ]
  },
  {
   "cell_type": "code",
   "execution_count": 12,
   "metadata": {},
   "outputs": [],
   "source": [
    "import os\n",
    "import imageio\n",
    "from PIL import Image\n",
    "import numpy as np\n",
    "from methods import background_substraction\n",
    "\n",
    "input_folder = r'C:\\Users\\burckhardsv\\Lokale_Dateien\\Schramberg\\Schramberg_Datacollection\\Schramberg_Datacollection\\camera_2'\n",
    "output_folder =  r'C:\\Users\\burckhardsv\\Lokale_Dateien\\Schramberg\\Schramberg_Datacollection\\Schramberg_Datacollection\\camera_2_noise'\n",
    "\n",
    "\n",
    "for filename in os.listdir(input_folder):\n",
    "    if filename.endswith('.png'):\n",
    "        input_img_path = os.path.join(input_folder, filename)\n",
    "        output_img_path = os.path.join(output_folder, filename)\n",
    "        #print(f'Processing {input_img_path}')\n",
    "\n",
    "        \n",
    "        processed_image = background_substraction(input_img_path)\n",
    "        processed_image = processed_image.convert('L')\n",
    "        processed_image.save(output_img_path)\n"
   ]
  },
  {
   "cell_type": "markdown",
   "metadata": {},
   "source": [
    "## 2.3 Crop around the centre FF/NF"
   ]
  },
  {
   "cell_type": "markdown",
   "metadata": {},
   "source": [
    "Calculate the Durchmesser of the Defocus Beam"
   ]
  },
  {
   "cell_type": "code",
   "execution_count": null,
   "metadata": {},
   "outputs": [],
   "source": [
    "import cv2\n",
    "import numpy as np\n",
    "import matplotlib.pyplot as plt\n",
    "\n",
    "image_path = r'\\\\srvditz1\\lac\\Studenten\\AE_VoE_Stud\\Sven Burckhard\\Datenaufnahme\\Raw_Data_Ditzingen_Vortex\\camera_2_v1_index\\1_idx_2024-06-14 18-10-02_c2_1.png'\n",
    "\n",
    "img = cv2.imread(image_path, cv2.IMREAD_GRAYSCALE)\n",
    "if img is None:\n",
    "    raise ValueError(f\"Bild konnte nicht geladen werden: {image_path}\")\n",
    "\n",
    "_, binary_img = cv2.threshold(img, 50, 255, cv2.THRESH_BINARY)\n",
    "\n",
    "\n",
    "contours, _ = cv2.findContours(binary_img, cv2.RETR_EXTERNAL, cv2.CHAIN_APPROX_SIMPLE)\n",
    "\n",
    "\n",
    "if contours:\n",
    "    largest_contour = max(contours, key=cv2.contourArea)\n",
    "    \n",
    "\n",
    "    (x, y), radius = cv2.minEnclosingCircle(largest_contour)\n",
    "    diameter = 2 * radius\n",
    "    \n",
    "    print(f\"Durchmesser des Laserstrahls: {diameter:.2f} Pixel\")\n",
    "\n",
    " \n",
    "    output_img = cv2.cvtColor(img, cv2.COLOR_GRAY2BGR)\n",
    "    cv2.circle(output_img, (int(x), int(y)), int(radius), (0, 255, 0), 2)\n",
    "    \n",
    "    \n",
    "    plt.figure(figsize=(10, 10))\n",
    "    plt.imshow(output_img, cmap='gray')\n",
    "    plt.title(\"Laserstrahl Durchmesser\")\n",
    "    plt.xlabel(\"Pixel\")\n",
    "    plt.ylabel(\"Pixel\")\n",
    "    plt.show()\n",
    "else:\n",
    "    print(\"Kein Laserstrahl im Bild gefunden\")\n"
   ]
  },
  {
   "cell_type": "code",
   "execution_count": 2,
   "metadata": {},
   "outputs": [
    {
     "name": "stdout",
     "output_type": "stream",
     "text": [
      "Image_sub_background: [[0 0 0 ... 0 0 0]\n",
      " [0 0 0 ... 0 0 0]\n",
      " [0 0 0 ... 0 0 0]\n",
      " ...\n",
      " [0 0 0 ... 0 0 0]\n",
      " [0 0 0 ... 0 0 0]\n",
      " [0 0 0 ... 0 0 0]]\n"
     ]
    },
    {
     "data": {
      "image/png": "[encoded data removed]",
      "text/plain": [
       "<Figure size 640x480 with 1 Axes>"
      ]
     },
     "metadata": {},
     "output_type": "display_data"
    }
   ],
   "source": [
    "# Ditzingen\n",
    "# Vortex Reference image\n",
    "# image_sub_background = iio.imread(r'\\\\srvditz1\\lac\\Studenten\\AE_VoE_Stud\\Sven Burckhard\\Datenaufnahme\\Raw_Data_Ditzingen_Vortex_Abb08\\reference image\\vortex_defocus_reference_image.png') # Farfield Camera 2\n",
    "# image_sub_background = iio.imread(r'\\\\srvditz1\\lac\\Studenten\\AE_VoE_Stud\\Sven Burckhard\\Datenaufnahme\\Raw_Data_Ditzingen_Vortex_Abb08\\reference image\\vortex_focus_reference_image.png')\n",
    "\n",
    "# Vortex v2 because of the new situation collect data again.\n",
    "#image_sub_background = iio.imread(r'\\\\srvditz1\\lac\\Studenten\\AE_VoE_Stud\\Sven Burckhard\\Datenaufnahme\\Raw_Data_Ditzingen_Vortex_Abb08_New\\reference_image_defocus_vortex.png')\n",
    "#image_sub_background = iio.imread(r'\\\\srvditz1\\lac\\Studenten\\AE_VoE_Stud\\Sven Burckhard\\Datenaufnahme\\Raw_Data_Ditzingen_Vortex_Abb08_New\\reference_image_focus_vortex.png')\n",
    "\n",
    "# Gaussian Reference Image\n",
    "#image_sub_background = iio.imread(r'\\\\srvditz1\\lac\\Studenten\\AE_VoE_Stud\\Sven Burckhard\\Datenaufnahme\\Raw_Data_Ditzingen_Gaussian_Abb08\\gaussian_focus_reference_image.bmp')\n",
    "#image_sub_background = iio.imread(r'\\\\srvditz1\\lac\\Studenten\\AE_VoE_Stud\\Sven Burckhard\\Datenaufnahme\\Raw_Data_Ditzingen_Gaussian_Abb08\\gausssian_defocus_reference_image.bmp') #Farfield camera 2\n",
    "\n",
    "\n",
    "# Evaluation image without abbreaction\n",
    "# camera 1\n",
    "#image_sub_background = iio.imread(r'\\\\srvditz1\\lac\\Studenten\\AE_VoE_Stud\\Sven Burckhard\\Predict_Phasemask\\Test_1_Gaussian\\camera_1_noise\\2024-07-10 10-05-09.png')\n",
    "# camera 2\n",
    "#image_sub_background = iio.imread(r'\\\\srvditz1\\lac\\Studenten\\AE_VoE_Stud\\Sven Burckhard\\Predict_Phasemask\\Test_1_Gaussian\\camera_2_noise\\2024-07-10 10-05-24.png')\n",
    "\n",
    "\n",
    "#image_sub_background = iio.imread(r'\\\\srvditz1\\lac\\Studenten\\AE_VoE_Stud\\Sven Burckhard\\Predict_Phasemask\\Evaluation_Vortex\\Test_Random_200_phasemasks\\compensatet_camera_1\\1_idx_2024-08-05 11-07-02_c1_1.png')\n",
    "\n",
    "# gaussian evaluation reference iamges\n",
    "#image_sub_background = iio.imread(r'\\\\srvditz1\\lac\\Studenten\\AE_VoE_Stud\\Sven Burckhard\\Predict_Phasemask\\Evaluation_Gaussian\\camera_1_abb\\187_idx_2024-08-07 17-40-26_c1_1.png')\n",
    "#image_sub_background = iio.imread(r'\\\\srvditz1\\lac\\Studenten\\AE_VoE_Stud\\Sven Burckhard\\Predict_Phasemask\\Evaluation_Gaussian_2\\Reference_Images\\camera_2_reference\\1_idx_2024-08-07 17-44-02_c2_1.png')\n",
    "\n",
    "# Schramberg \n",
    "# camerfa_1\n",
    "#image_sub_background = iio.imread(r'C:\\Users\\burckhardsv\\Lokale_Dateien\\Schramberg\\Schramberg_Datacollection\\Schramberg_Datacollection\\camera_1_noise\\1_idx_2024-09-03 16-22-02_c1_1.png')\n",
    "image_sub_background = iio.imread(r'C:\\Users\\burckhardsv\\Lokale_Dateien\\Schramberg\\Schramberg_Datacollection\\Schramberg_Datacollection\\camera_2_noise\\1_idx_2024-09-03 16-22-02_c2_1.png')\n",
    "\n",
    "\n",
    "#Normalization\n",
    "img_array = np.asarray(image_sub_background)\n",
    "\n",
    "#image = img_array / 255.0\n",
    "print(f\"Image_sub_background: {img_array}\")\n",
    "plt.title(\"Image_sub_background\")\n",
    "plt.imshow(img_array)\n",
    "plt.show()\n"
   ]
  },
  {
   "cell_type": "markdown",
   "metadata": {},
   "source": []
  },
  {
   "cell_type": "code",
   "execution_count": 3,
   "metadata": {},
   "outputs": [
    {
     "name": "stdout",
     "output_type": "stream",
     "text": [
      "Shape: (2048, 2048)\n",
      "Max_image_sub_background: 149\n",
      "1\n",
      "(y,x) (817.5613396432472, 1206.2089552238806)\n"
     ]
    },
    {
     "data": {
      "image/png": "[encoded data removed]",
      "text/plain": [
       "<Figure size 640x480 with 1 Axes>"
      ]
     },
     "metadata": {},
     "output_type": "display_data"
    }
   ],
   "source": [
    "import numpy as np\n",
    "import matplotlib.pyplot as plt\n",
    "from skimage import filters, color\n",
    "from skimage.color import label2rgb\n",
    "from skimage.measure import regionprops\n",
    "# img_sub_background\n",
    "print(f\"Shape: {image_sub_background.shape}\")\n",
    "print(f\"Max_image_sub_background: {np.max(image_sub_background)}\")\n",
    "image = image_sub_background\n",
    "\n",
    "# If the input image has thgree channels\n",
    "#image = color.rgb2gray(image_sub_background) \n",
    "\n",
    "threshold_value = filters.threshold_otsu(image)\n",
    "#threshold_value = 0.65 # for gaussian camera 1\n",
    "\n",
    "# image with only 1 and 0\n",
    "labeled_foreground = (image > threshold_value).astype(int)\n",
    "print(np.max(labeled_foreground))\n",
    "properties = regionprops(labeled_foreground, image)\n",
    "center_of_mass = properties[0].centroid\n",
    "weighted_center_of_mass = properties[0].weighted_centroid\n",
    "print(f\"(y,x) {center_of_mass}\")\n",
    "\n",
    "\n",
    "#Plot the image then 3 channels\n",
    "colorized = label2rgb(labeled_foreground, image, colors=['black', 'red'], alpha=0.1)\n",
    "fig, ax = plt.subplots()\n",
    "ax.imshow(colorized)\n",
    "\n",
    "\n",
    "\n",
    "\n",
    "# Note the inverted coordinates because plt uses (x, y) while NumPy uses (row, column)\n",
    "ax.scatter(center_of_mass[1], center_of_mass[0], s=160, c='C0', marker='+')\n",
    "plt.show()\n",
    "\n"
   ]
  },
  {
   "cell_type": "markdown",
   "metadata": {},
   "source": [
    "center_of_mask = [1101,1010] # defocus\n",
    "center_of_mask = [1103,949]"
   ]
  },
  {
   "cell_type": "code",
   "execution_count": 10,
   "metadata": {},
   "outputs": [
    {
     "name": "stdout",
     "output_type": "stream",
     "text": [
      "[899.9142857142857, 846.0171428571429]\n"
     ]
    }
   ],
   "source": [
    "center_of_mass_final=[center_of_mass[0],center_of_mass[1]]\n",
    "\n",
    "print(center_of_mass_final)"
   ]
  },
  {
   "cell_type": "code",
   "execution_count": 11,
   "metadata": {},
   "outputs": [
    {
     "name": "stdout",
     "output_type": "stream",
     "text": [
      "<class 'numpy.ndarray'>\n"
     ]
    },
    {
     "data": {
      "image/png": "[encoded data removed]",
      "text/plain": [
       "<Figure size 640x480 with 1 Axes>"
      ]
     },
     "metadata": {},
     "output_type": "display_data"
    }
   ],
   "source": [
    "from methods import crop_beam\n",
    "image_cropped = crop_beam(image,center_of_mass_final, crop_size=512)\n",
    "print(type(image_cropped))\n",
    "plt.title(\"Beam_cropped\")\n",
    "plt.imshow(image_cropped)\n",
    "plt.show()"
   ]
  },
  {
   "cell_type": "markdown",
   "metadata": {},
   "source": [
    "Loop for Cropping around the centre"
   ]
  },
  {
   "cell_type": "code",
   "execution_count": 12,
   "metadata": {},
   "outputs": [
    {
     "name": "stdout",
     "output_type": "stream",
     "text": [
      "save\n",
      "All images have been successfully cropped and saved in the target folder.\n"
     ]
    }
   ],
   "source": [
    "origin = r'C:\\Users\\burckhardsv\\Lokale_Dateien\\Schramberg\\Test\\camera_1'\n",
    "target = r'C:\\Users\\burckhardsv\\Lokale_Dateien\\Schramberg\\Test\\camera_1_crop'\n",
    "\n",
    "for filename in os.listdir(origin):\n",
    "    if filename.lower().endswith(('.bmp','.png')):\n",
    "        full_path = os.path.join(origin, filename)\n",
    "        target_path = os.path.join(target, filename)\n",
    "\n",
    "        \n",
    "        if os.path.exists(target_path):\n",
    "            #print(f\"{filename} already exists in the target folder, skipping.\")\n",
    "            continue\n",
    "        \n",
    "        \n",
    "        image = cv2.imread(full_path)\n",
    "        cropped_image = crop_beam(image,center_of_mass=center_of_mass_final,crop_size=512)\n",
    "        cv2.imwrite(target_path, cropped_image) \n",
    "        print(\"save\")\n",
    "        \n",
    "print(\"All images have been successfully cropped and saved in the target folder.\")"
   ]
  }
 ],
 "metadata": {
  "kernelspec": {
   "display_name": "Python 3",
   "language": "python",
   "name": "python3"
  },
  "language_info": {
   "codemirror_mode": {
    "name": "ipython",
    "version": 3
   },
   "file_extension": ".py",
   "mimetype": "text/x-python",
   "name": "python",
   "nbconvert_exporter": "python",
   "pygments_lexer": "ipython3",
   "version": "3.10.11"
  }
 },
 "nbformat": 4,
 "nbformat_minor": 2
}
