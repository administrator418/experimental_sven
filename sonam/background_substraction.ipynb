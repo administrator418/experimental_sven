{
 "cells": [
  {
   "cell_type": "code",
   "execution_count": 1,
   "metadata": {},
   "outputs": [],
   "source": [
    "from PIL import Image\n",
    "import numpy as np\n",
    "import os\n",
    "import pathlib as Path\n"
   ]
  },
  {
   "cell_type": "code",
   "execution_count": 14,
   "metadata": {},
   "outputs": [],
   "source": [
    "def background_substraction(image_path, region_size=15):\n",
    "    img = Image.open(image_path)\n",
    "    print(img.size)\n",
    "    img_array = np.array(img)\n",
    "    image_array = img_array / 255.0\n",
    "    right_edge_region = img_array[:, -region_size:]\n",
    "    mean_pixel = np.mean(right_edge_region)\n",
    "    bgs_final_img_array = img_array - mean_pixel\n",
    "    bgs_final_img = Image.fromarray(bgs_final_img_array)\n",
    "    return(bgs_final_img)\n",
    "\n",
    "\n"
   ]
  },
  {
   "cell_type": "code",
   "execution_count": null,
   "metadata": {},
   "outputs": [],
   "source": [
    "import pathlib as Path\n",
    "image_path = r'\\\\srvditz1\\lac\\Studenten\\AE_VoE_Stud\\Sven Burckhard\\Datasets\\Dataset_Ditzingen_Gaussian_18000img\\test\\beam_ff\\2024-04-10 06-20-12.png'\n",
    "\n",
    "\n",
    "x = background_substraction(image_path)"
   ]
  },
  {
   "cell_type": "code",
   "execution_count": null,
   "metadata": {},
   "outputs": [],
   "source": [
    "input_folder = r'\\\\srvditz1\\lac\\Studenten\\AE_VoE_Stud\\Sven Burckhard\\Datasets\\Dataset_Ditzingen_Gaussian_18000img\\test\\beam_ff'\n",
    "\n",
    "for filename in os.listdir(input_folder):\n",
    "    if filename.endswith('.png'):\n",
    "        \n",
    "        input_img_path = os.path.join(input_folder, filename)\n",
    "        x = background_substraction(input_img_path)\n",
    "        \n",
    "        # Convert the image to grayscale mode ('L') before saving\n",
    "        x = x.convert('L')\n",
    "        \n",
    "        # Save the image with the same filename\n",
    "        x.save(input_img_path)\n"
   ]
  }
 ],
 "metadata": {
  "kernelspec": {
   "display_name": "Python 3",
   "language": "python",
   "name": "python3"
  },
  "language_info": {
   "codemirror_mode": {
    "name": "ipython",
    "version": 3
   },
   "file_extension": ".py",
   "mimetype": "text/x-python",
   "name": "python",
   "nbconvert_exporter": "python",
   "pygments_lexer": "ipython3",
   "version": "3.10.11"
  }
 },
 "nbformat": 4,
 "nbformat_minor": 2
}
