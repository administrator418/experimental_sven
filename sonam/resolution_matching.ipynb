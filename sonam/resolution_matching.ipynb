{
 "cells": [
  {
   "cell_type": "code",
   "execution_count": 1,
   "metadata": {},
   "outputs": [],
   "source": [
    "from PIL import Image\n",
    "import os"
   ]
  },
  {
   "cell_type": "code",
   "execution_count": 2,
   "metadata": {},
   "outputs": [],
   "source": [
    "def resolution_matching(image_path, target_resolution):\n",
    "    img = Image.open(image_path)\n",
    "    res_image = img.resize(target_resolution, Image.BICUBIC)\n",
    "    return(res_image)"
   ]
  },
  {
   "cell_type": "code",
   "execution_count": 5,
   "metadata": {},
   "outputs": [],
   "source": [
    "input_folder = 'camera_test_1_vortex/'\n",
    "output_folder = 'camera_test_1_vortex_corrected/'\n",
    "target_resolution = (2048, 2048)"
   ]
  },
  {
   "cell_type": "code",
   "execution_count": 8,
   "metadata": {},
   "outputs": [],
   "source": [
    "for filename in os.listdir(input_folder):\n",
    "    if filename.endswith('.bmp'):\n",
    "        # Get the input and output image paths\n",
    "        input_img_path = os.path.join(input_folder, filename)\n",
    "        output_img_path = os.path.join(output_folder, filename)\n",
    "        \n",
    "        # Perform resolution matching and save the image\n",
    "        res_image = resolution_matching(input_img_path, target_resolution)\n",
    "        res_image.save(output_img_path)"
   ]
  },
  {
   "cell_type": "code",
   "execution_count": null,
   "metadata": {},
   "outputs": [],
   "source": []
  }
 ],
 "metadata": {
  "kernelspec": {
   "display_name": "Python 3",
   "language": "python",
   "name": "python3"
  },
  "language_info": {
   "codemirror_mode": {
    "name": "ipython",
    "version": 3
   },
   "file_extension": ".py",
   "mimetype": "text/x-python",
   "name": "python",
   "nbconvert_exporter": "python",
   "pygments_lexer": "ipython3",
   "version": "3.11.3"
  }
 },
 "nbformat": 4,
 "nbformat_minor": 2
}
