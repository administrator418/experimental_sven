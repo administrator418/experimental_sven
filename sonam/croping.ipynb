{
 "cells": [
  {
   "cell_type": "code",
   "execution_count": null,
   "metadata": {},
   "outputs": [],
   "source": [
    "import os\n",
    "from PIL import Image\n",
    "\n",
    "def crop_around_pixel(image_path, x, y, crop_size=256):\n",
    "    # Open the image\n",
    "    img = Image.open(image_path)\n",
    "\n",
    "    # Convert the image to grayscale\n",
    "    img_gray = img.convert('L')\n",
    "\n",
    "    # Calculate the coordinates for cropping\n",
    "    left = max(x - crop_size // 2, 0)\n",
    "    top = max(y - crop_size // 2, 0)\n",
    "    right = min(x + crop_size // 2, img.width)\n",
    "    bottom = min(y + crop_size // 2, img.height)\n",
    "\n",
    "    # Crop the region around the specified pixel\n",
    "    cropped_img = img_gray.crop((left, top, right, bottom))\n",
    "\n",
    "    # Create a new image of size 256x256 with the specified pixel at the center\n",
    "    new_img = Image.new('L', (crop_size, crop_size), (0))\n",
    "    new_img.paste(cropped_img, (crop_size // 2 - (x - left), crop_size // 2 - (y - top)))\n",
    "\n",
    "    return new_img\n",
    "\n",
    "# Folder containing the images\n",
    "input_folder = 'input_images'\n",
    "\n",
    "# Coordinates of the specified pixel\n",
    "x = 1000  # Example x-coordinate\n",
    "y = 1500  # Example y-coordinate\n",
    "\n",
    "# Crop size\n",
    "crop_size = 256\n",
    "\n",
    "# Iterate over the images in the folder\n",
    "for filename in os.listdir(input_folder):\n",
    "    if filename.endswith('.bmp'):\n",
    "        # Path to the image file\n",
    "        image_path = os.path.join(input_folder, filename)\n",
    "\n",
    "        # Crop around the specified pixel to create a new image of size 256x256\n",
    "        cropped_img = crop_around_pixel(image_path, x, y, crop_size)\n",
    "\n",
    "        # Save the cropped image with the same filename in BMP format and grayscale\n",
    "        cropped_img.save(image_path, format='BMP')\n",
    "\n",
    "\n"
   ]
  }
 ],
 "metadata": {
  "kernelspec": {
   "display_name": "Python 3",
   "language": "python",
   "name": "python3"
  },
  "language_info": {
   "name": "python",
   "version": "3.11.3"
  }
 },
 "nbformat": 4,
 "nbformat_minor": 2
}
