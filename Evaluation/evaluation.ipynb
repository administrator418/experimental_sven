{
 "cells": [
  {
   "cell_type": "code",
   "execution_count": 201,
   "metadata": {},
   "outputs": [],
   "source": [
    "import pandas as pd \n",
    "pd.set_option('display.float_format', '{:.20f}'.format)\n",
    "import numpy as np\n",
    "import seaborn as sns\n",
    "import matplotlib.pyplot as plt\n",
    "\n",
    "import matplotlib.pyplot as plt\n",
    "import matplotlib as mpl\n",
    "import cv2\n",
    "import numpy as np\n",
    "import matplotlib.pyplot as plt\n",
    "# Set global parameters\n",
    "mpl.rcParams['font.size'] = 14  # Set global font size for titles, labels, etc.\n",
    "mpl.rcParams['axes.titlesize'] = 14  # Title size\n",
    "mpl.rcParams['axes.labelsize'] = 14  # X and Y label size\n",
    "mpl.rcParams['legend.fontsize'] = 14  # Legend font size\n",
    "mpl.rcParams['xtick.labelsize'] = 14  # X-tick label size\n",
    "mpl.rcParams['ytick.labelsize'] = 14  # Y-tick label size\n",
    "mpl.rcParams['font.family'] = 'Arial'  # Set font family globally\n",
    "# Set font weight for axis labels to bold\n",
    "#mpl.rcParams['axes.labelweight'] = 'bold'\n",
    "mpl.rcParams['axes.titleweight'] = 'bold'  # Title weight (bold)"
   ]
  },
  {
   "cell_type": "code",
   "execution_count": 191,
   "metadata": {},
   "outputs": [],
   "source": [
    "# read in the csv\n",
    "#df best hyperparameters vorherige Arbeit\n",
    "df = pd.read_csv(r'\\\\srvditz1\\lac\\Studenten\\AE_VoE_Stud\\Sven Burckhard\\Results\\Gaussian_Ditzingen_all_configs_20000imgs\\results_summary.csv')"
   ]
  },
  {
   "cell_type": "markdown",
   "metadata": {},
   "source": [
    "### wrapped Phasemaks"
   ]
  },
  {
   "cell_type": "markdown",
   "metadata": {},
   "source": [
    "##### Gaussian"
   ]
  },
  {
   "cell_type": "code",
   "execution_count": 175,
   "metadata": {},
   "outputs": [],
   "source": [
    "#all configs wrapped gaussian\n",
    "df = pd.read_csv(r'\\\\srvditz1\\lac\\Studenten\\AE_VoE_Stud\\Sven Burckhard\\Results\\Final_Ditzingen\\Real_Gaussian_Abb08_all_config_Max_Epochs\\Results_real_ditzingen_gaussian_Abb08_all_configs_dataset_cleaned\\results_summary.csv')"
   ]
  },
  {
   "cell_type": "markdown",
   "metadata": {},
   "source": [
    "##### Vortex"
   ]
  },
  {
   "cell_type": "code",
   "execution_count": 181,
   "metadata": {},
   "outputs": [],
   "source": [
    "#all configs wrapped vortex\n",
    "df= pd.read_csv(r'\\\\srvditz1\\lac\\Studenten\\AE_VoE_Stud\\Sven Burckhard\\Results\\Final_Ditzingen\\Real_Vortex_Abb08_all_config_Max_Epochs\\Results_real_ditzingen_vortex_Abb08_all_configs_dataset_cleaned\\results_summary.csv')"
   ]
  },
  {
   "cell_type": "markdown",
   "metadata": {},
   "source": [
    "### Unwrapped Phasemaks"
   ]
  },
  {
   "cell_type": "markdown",
   "metadata": {},
   "source": [
    "##### Gaussian"
   ]
  },
  {
   "cell_type": "code",
   "execution_count": 202,
   "metadata": {},
   "outputs": [],
   "source": [
    "#all configs unwrapped gaussian\n",
    "df = pd.read_csv(r'\\\\srvditz1\\lac\\Studenten\\AE_VoE_Stud\\Sven Burckhard\\Results\\Final_Ditzingen\\unwrapped\\Ditzingen_Gaussian_Unwrapped_All_configs\\results_summary.csv')"
   ]
  },
  {
   "cell_type": "markdown",
   "metadata": {},
   "source": [
    "##### Vortex"
   ]
  },
  {
   "cell_type": "code",
   "execution_count": 197,
   "metadata": {},
   "outputs": [],
   "source": [
    "#all configs unwrapped gaussian\n",
    "df = pd.read_csv(r'\\\\srvditz1\\lac\\Studenten\\AE_VoE_Stud\\Sven Burckhard\\Results\\Final_Ditzingen\\unwrapped\\Ditzingen_Vortex_Unwrapped_All_configs\\results_summary.csv')"
   ]
  },
  {
   "cell_type": "markdown",
   "metadata": {},
   "source": [
    "##### Old"
   ]
  },
  {
   "cell_type": "code",
   "execution_count": 18,
   "metadata": {},
   "outputs": [],
   "source": [
    "#df = pd.read_csv(r'\\\\srvditz1\\lac\\Studenten\\AE_VoE_Stud\\Sven Burckhard\\Results\\results_no_unwrapping_synthetic_gaussian_20000img_10epochs_2024-03-11_17-21-33\\results_summary.csv')\n",
    "\n",
    "\n",
    "#df = pd.read_csv(r'\\\\srvditz1\\lac\\Studenten\\AE_VoE_Stud\\Sven Burckhard\\Results\\Gaussian_Ditzingen_all_configs_20000imgs\\results_summary.csv')\n",
    "#df =pd.read_csv(r'\\\\srvditz1\\lac\\Studenten\\AE_VoE_Stud\\Sven Burckhard\\Results\\Final_Ditzingen\\Real_Vortex_Abb08_all_config_Max_Epochs\\Results_Real_Vortex_Ditzingen_all_configs\\results_summary.csv')\n",
    "#df = pd.read_csv(r'D:\\Sven_Burckhard\\Results\\2024-08-06_08-06-20-167723\\results_summary.csv')\n",
    "#df = pd.read_csv(r'\\\\srvditz1\\lac\\Studenten\\AE_VoE_Stud\\Sven Burckhard\\Results\\Final_Ditzingen\\unwrapped\\Ditzingen_Vortex_Unwrapped_All_configs\\results_summary.csv')\n",
    "\n",
    "#df = pd.read_csv(r'\\\\srvditz1\\lac\\Studenten\\AE_VoE_Stud\\Sven Burckhard\\Results\\Final_Ditzingen\\unwrapped\\Ditzingen_Vortex_Unwrapped_Max_Epochs\\results_summary.csv')\n",
    "#df = pd.read_csv(r'\\\\srvditz1\\lac\\Studenten\\AE_VoE_Stud\\Sven Burckhard\\Results\\Final_Ditzingen\\Real_Gaussian_Abb08_all_config_Max_Epochs\\Results_real_ditzingen_gaussian_Abb08_all_configs_dataset_cleaned\\results_summary.csv')"
   ]
  },
  {
   "cell_type": "code",
   "execution_count": 203,
   "metadata": {},
   "outputs": [
    {
     "data": {
      "text/html": [
       "<div>\n",
       "<style scoped>\n",
       "    .dataframe tbody tr th:only-of-type {\n",
       "        vertical-align: middle;\n",
       "    }\n",
       "\n",
       "    .dataframe tbody tr th {\n",
       "        vertical-align: top;\n",
       "    }\n",
       "\n",
       "    .dataframe thead th {\n",
       "        text-align: right;\n",
       "    }\n",
       "</style>\n",
       "<table border=\"1\" class=\"dataframe\">\n",
       "  <thead>\n",
       "    <tr style=\"text-align: right;\">\n",
       "      <th></th>\n",
       "      <th>folder</th>\n",
       "      <th>best_epoch</th>\n",
       "      <th>l1_loss_train</th>\n",
       "      <th>l1_loss_val</th>\n",
       "      <th>l1_loss_test</th>\n",
       "      <th>l1_loss_test_without_dropout</th>\n",
       "      <th>l2_loss_train</th>\n",
       "      <th>l2_loss_val</th>\n",
       "      <th>l2_loss_test</th>\n",
       "      <th>l2_loss_test_without_dropout</th>\n",
       "      <th>ssim_train</th>\n",
       "      <th>ssim_val</th>\n",
       "      <th>ssim_test</th>\n",
       "      <th>ssim_test_without_dropout</th>\n",
       "    </tr>\n",
       "  </thead>\n",
       "  <tbody>\n",
       "    <tr>\n",
       "      <th>0</th>\n",
       "      <td>2024-08-06_08-06-20-168699</td>\n",
       "      <td>40</td>\n",
       "      <td>0.03050609138977810122</td>\n",
       "      <td>0.06403267178856709985</td>\n",
       "      <td>0.06321380917388609577</td>\n",
       "      <td>0.06303223461994629517</td>\n",
       "      <td>0.00170330605210679991</td>\n",
       "      <td>0.00749330130089539970</td>\n",
       "      <td>0.00729965675782049978</td>\n",
       "      <td>0.00730997406610160022</td>\n",
       "      <td>0.97999497831028015149</td>\n",
       "      <td>0.96179953071841162160</td>\n",
       "      <td>0.96217845168837623504</td>\n",
       "      <td>0.96224208885293605054</td>\n",
       "    </tr>\n",
       "    <tr>\n",
       "      <th>1</th>\n",
       "      <td>2024-08-06_11-40-48-093999</td>\n",
       "      <td>38</td>\n",
       "      <td>0.03276151832806190045</td>\n",
       "      <td>0.06507989437450970027</td>\n",
       "      <td>0.06492666615904750527</td>\n",
       "      <td>0.06487450426561210126</td>\n",
       "      <td>0.00196577768202999990</td>\n",
       "      <td>0.00767277978370489982</td>\n",
       "      <td>0.00769628077843789987</td>\n",
       "      <td>0.00766509216610739962</td>\n",
       "      <td>0.97981298696848040386</td>\n",
       "      <td>0.96140748256500041524</td>\n",
       "      <td>0.96127423453252303087</td>\n",
       "      <td>0.96144704372182521190</td>\n",
       "    </tr>\n",
       "    <tr>\n",
       "      <th>2</th>\n",
       "      <td>2024-08-06_15-18-26-441807</td>\n",
       "      <td>30</td>\n",
       "      <td>0.03335885662868569995</td>\n",
       "      <td>0.06531976677152559474</td>\n",
       "      <td>0.06484470682175640099</td>\n",
       "      <td>0.06450707967525259878</td>\n",
       "      <td>0.00206376458051030004</td>\n",
       "      <td>0.00779347690597389977</td>\n",
       "      <td>0.00769686872022770033</td>\n",
       "      <td>0.00761445237465030022</td>\n",
       "      <td>0.98162813295953021964</td>\n",
       "      <td>0.96392845879142796672</td>\n",
       "      <td>0.96406563988613203087</td>\n",
       "      <td>0.96419477234579165081</td>\n",
       "    </tr>\n",
       "  </tbody>\n",
       "</table>\n",
       "</div>"
      ],
      "text/plain": [
       "                       folder  best_epoch          l1_loss_train  \\\n",
       "0  2024-08-06_08-06-20-168699          40 0.03050609138977810122   \n",
       "1  2024-08-06_11-40-48-093999          38 0.03276151832806190045   \n",
       "2  2024-08-06_15-18-26-441807          30 0.03335885662868569995   \n",
       "\n",
       "             l1_loss_val           l1_loss_test  l1_loss_test_without_dropout  \\\n",
       "0 0.06403267178856709985 0.06321380917388609577        0.06303223461994629517   \n",
       "1 0.06507989437450970027 0.06492666615904750527        0.06487450426561210126   \n",
       "2 0.06531976677152559474 0.06484470682175640099        0.06450707967525259878   \n",
       "\n",
       "           l2_loss_train            l2_loss_val           l2_loss_test  \\\n",
       "0 0.00170330605210679991 0.00749330130089539970 0.00729965675782049978   \n",
       "1 0.00196577768202999990 0.00767277978370489982 0.00769628077843789987   \n",
       "2 0.00206376458051030004 0.00779347690597389977 0.00769686872022770033   \n",
       "\n",
       "   l2_loss_test_without_dropout             ssim_train               ssim_val  \\\n",
       "0        0.00730997406610160022 0.97999497831028015149 0.96179953071841162160   \n",
       "1        0.00766509216610739962 0.97981298696848040386 0.96140748256500041524   \n",
       "2        0.00761445237465030022 0.98162813295953021964 0.96392845879142796672   \n",
       "\n",
       "               ssim_test  ssim_test_without_dropout  \n",
       "0 0.96217845168837623504     0.96224208885293605054  \n",
       "1 0.96127423453252303087     0.96144704372182521190  \n",
       "2 0.96406563988613203087     0.96419477234579165081  "
      ]
     },
     "execution_count": 203,
     "metadata": {},
     "output_type": "execute_result"
    }
   ],
   "source": [
    "df.head(3)"
   ]
  },
  {
   "cell_type": "markdown",
   "metadata": {},
   "source": [
    "Evaluationmetric MSE_Test"
   ]
  },
  {
   "cell_type": "code",
   "execution_count": 199,
   "metadata": {},
   "outputs": [],
   "source": [
    "df_mse = df.sort_values(by=\"l2_loss_test\", ascending=True) # l2 equal mse old configs l1_loss_test"
   ]
  },
  {
   "cell_type": "code",
   "execution_count": 200,
   "metadata": {},
   "outputs": [
    {
     "data": {
      "text/html": [
       "<div>\n",
       "<style scoped>\n",
       "    .dataframe tbody tr th:only-of-type {\n",
       "        vertical-align: middle;\n",
       "    }\n",
       "\n",
       "    .dataframe tbody tr th {\n",
       "        vertical-align: top;\n",
       "    }\n",
       "\n",
       "    .dataframe thead th {\n",
       "        text-align: right;\n",
       "    }\n",
       "</style>\n",
       "<table border=\"1\" class=\"dataframe\">\n",
       "  <thead>\n",
       "    <tr style=\"text-align: right;\">\n",
       "      <th></th>\n",
       "      <th>folder</th>\n",
       "      <th>best_epoch</th>\n",
       "      <th>l1_loss_train</th>\n",
       "      <th>l1_loss_val</th>\n",
       "      <th>l1_loss_test</th>\n",
       "      <th>l1_loss_test_without_dropout</th>\n",
       "      <th>l2_loss_train</th>\n",
       "      <th>l2_loss_val</th>\n",
       "      <th>l2_loss_test</th>\n",
       "      <th>l2_loss_test_without_dropout</th>\n",
       "      <th>ssim_train</th>\n",
       "      <th>ssim_val</th>\n",
       "      <th>ssim_test</th>\n",
       "      <th>ssim_test_without_dropout</th>\n",
       "    </tr>\n",
       "  </thead>\n",
       "  <tbody>\n",
       "    <tr>\n",
       "      <th>22</th>\n",
       "      <td>2024-08-26_15-04-16-554448</td>\n",
       "      <td>50</td>\n",
       "      <td>0.02076334917547000003</td>\n",
       "      <td>0.04379596987362739668</td>\n",
       "      <td>0.04318729312506439794</td>\n",
       "      <td>0.04329378738655109693</td>\n",
       "      <td>0.00078324939635470001</td>\n",
       "      <td>0.00351952372642930006</td>\n",
       "      <td>0.00338212633290299993</td>\n",
       "      <td>0.00340831586630030003</td>\n",
       "      <td>0.99058046255925424894</td>\n",
       "      <td>0.98035043743752736667</td>\n",
       "      <td>0.98069293445879879290</td>\n",
       "      <td>0.98064968582033718025</td>\n",
       "    </tr>\n",
       "    <tr>\n",
       "      <th>19</th>\n",
       "      <td>2024-08-26_03-42-02-239504</td>\n",
       "      <td>40</td>\n",
       "      <td>0.02465307295904370019</td>\n",
       "      <td>0.04499283240052470018</td>\n",
       "      <td>0.04373513401144799723</td>\n",
       "      <td>0.04388627156172639904</td>\n",
       "      <td>0.00110257348330090009</td>\n",
       "      <td>0.00366458615664600005</td>\n",
       "      <td>0.00347522068338420014</td>\n",
       "      <td>0.00349197545067309999</td>\n",
       "      <td>0.98842109452384319113</td>\n",
       "      <td>0.97946984282494220508</td>\n",
       "      <td>0.98005003858320782761</td>\n",
       "      <td>0.97993219498753936225</td>\n",
       "    </tr>\n",
       "    <tr>\n",
       "      <th>18</th>\n",
       "      <td>2024-08-25_23-40-20-902549</td>\n",
       "      <td>50</td>\n",
       "      <td>0.02100570417452480090</td>\n",
       "      <td>0.04474517439284120268</td>\n",
       "      <td>0.04405784481035990297</td>\n",
       "      <td>0.04395987633431309993</td>\n",
       "      <td>0.00080318971825260003</td>\n",
       "      <td>0.00365704809816220014</td>\n",
       "      <td>0.00350923664105600016</td>\n",
       "      <td>0.00350677156605730010</td>\n",
       "      <td>0.99033891292716158539</td>\n",
       "      <td>0.98020097375152281938</td>\n",
       "      <td>0.98058574758347116784</td>\n",
       "      <td>0.98054399521830837294</td>\n",
       "    </tr>\n",
       "  </tbody>\n",
       "</table>\n",
       "</div>"
      ],
      "text/plain": [
       "                        folder  best_epoch          l1_loss_train  \\\n",
       "22  2024-08-26_15-04-16-554448          50 0.02076334917547000003   \n",
       "19  2024-08-26_03-42-02-239504          40 0.02465307295904370019   \n",
       "18  2024-08-25_23-40-20-902549          50 0.02100570417452480090   \n",
       "\n",
       "              l1_loss_val           l1_loss_test  \\\n",
       "22 0.04379596987362739668 0.04318729312506439794   \n",
       "19 0.04499283240052470018 0.04373513401144799723   \n",
       "18 0.04474517439284120268 0.04405784481035990297   \n",
       "\n",
       "    l1_loss_test_without_dropout          l2_loss_train  \\\n",
       "22        0.04329378738655109693 0.00078324939635470001   \n",
       "19        0.04388627156172639904 0.00110257348330090009   \n",
       "18        0.04395987633431309993 0.00080318971825260003   \n",
       "\n",
       "              l2_loss_val           l2_loss_test  \\\n",
       "22 0.00351952372642930006 0.00338212633290299993   \n",
       "19 0.00366458615664600005 0.00347522068338420014   \n",
       "18 0.00365704809816220014 0.00350923664105600016   \n",
       "\n",
       "    l2_loss_test_without_dropout             ssim_train  \\\n",
       "22        0.00340831586630030003 0.99058046255925424894   \n",
       "19        0.00349197545067309999 0.98842109452384319113   \n",
       "18        0.00350677156605730010 0.99033891292716158539   \n",
       "\n",
       "                 ssim_val              ssim_test  ssim_test_without_dropout  \n",
       "22 0.98035043743752736667 0.98069293445879879290     0.98064968582033718025  \n",
       "19 0.97946984282494220508 0.98005003858320782761     0.97993219498753936225  \n",
       "18 0.98020097375152281938 0.98058574758347116784     0.98054399521830837294  "
      ]
     },
     "execution_count": 200,
     "metadata": {},
     "output_type": "execute_result"
    }
   ],
   "source": [
    "df_mse.head(3)"
   ]
  },
  {
   "cell_type": "markdown",
   "metadata": {},
   "source": [
    "Evaluationmetric SSIM_Test"
   ]
  },
  {
   "cell_type": "code",
   "execution_count": 11,
   "metadata": {},
   "outputs": [
    {
     "data": {
      "text/html": [
       "<div>\n",
       "<style scoped>\n",
       "    .dataframe tbody tr th:only-of-type {\n",
       "        vertical-align: middle;\n",
       "    }\n",
       "\n",
       "    .dataframe tbody tr th {\n",
       "        vertical-align: top;\n",
       "    }\n",
       "\n",
       "    .dataframe thead th {\n",
       "        text-align: right;\n",
       "    }\n",
       "</style>\n",
       "<table border=\"1\" class=\"dataframe\">\n",
       "  <thead>\n",
       "    <tr style=\"text-align: right;\">\n",
       "      <th></th>\n",
       "      <th>folder</th>\n",
       "      <th>best_epoch</th>\n",
       "      <th>l1_loss_train</th>\n",
       "      <th>l1_loss_val</th>\n",
       "      <th>l1_loss_test</th>\n",
       "      <th>l1_loss_test_without_dropout</th>\n",
       "      <th>l2_loss_train</th>\n",
       "      <th>l2_loss_val</th>\n",
       "      <th>l2_loss_test</th>\n",
       "      <th>l2_loss_test_without_dropout</th>\n",
       "      <th>ssim_train</th>\n",
       "      <th>ssim_val</th>\n",
       "      <th>ssim_test</th>\n",
       "      <th>ssim_test_without_dropout</th>\n",
       "    </tr>\n",
       "  </thead>\n",
       "  <tbody>\n",
       "    <tr>\n",
       "      <th>22</th>\n",
       "      <td>2024-08-26_15-04-16-554448</td>\n",
       "      <td>50</td>\n",
       "      <td>0.02076334917547000003</td>\n",
       "      <td>0.04379596987362739668</td>\n",
       "      <td>0.04318729312506439794</td>\n",
       "      <td>0.04329378738655109693</td>\n",
       "      <td>0.00078324939635470001</td>\n",
       "      <td>0.00351952372642930006</td>\n",
       "      <td>0.00338212633290299993</td>\n",
       "      <td>0.00340831586630030003</td>\n",
       "      <td>0.99058046255925424894</td>\n",
       "      <td>0.98035043743752736667</td>\n",
       "      <td>0.98069293445879879290</td>\n",
       "      <td>0.98064968582033718025</td>\n",
       "    </tr>\n",
       "  </tbody>\n",
       "</table>\n",
       "</div>"
      ],
      "text/plain": [
       "                        folder  best_epoch          l1_loss_train  \\\n",
       "22  2024-08-26_15-04-16-554448          50 0.02076334917547000003   \n",
       "\n",
       "              l1_loss_val           l1_loss_test  \\\n",
       "22 0.04379596987362739668 0.04318729312506439794   \n",
       "\n",
       "    l1_loss_test_without_dropout          l2_loss_train  \\\n",
       "22        0.04329378738655109693 0.00078324939635470001   \n",
       "\n",
       "              l2_loss_val           l2_loss_test  \\\n",
       "22 0.00351952372642930006 0.00338212633290299993   \n",
       "\n",
       "    l2_loss_test_without_dropout             ssim_train  \\\n",
       "22        0.00340831586630030003 0.99058046255925424894   \n",
       "\n",
       "                 ssim_val              ssim_test  ssim_test_without_dropout  \n",
       "22 0.98035043743752736667 0.98069293445879879290     0.98064968582033718025  "
      ]
     },
     "execution_count": 11,
     "metadata": {},
     "output_type": "execute_result"
    }
   ],
   "source": [
    "df_best_ssim = df.sort_values(by=\"ssim_test\", ascending=False) # l1 equal mse\n",
    "df_best_ssim.head(1)"
   ]
  },
  {
   "cell_type": "markdown",
   "metadata": {},
   "source": [
    "Sort by a row"
   ]
  },
  {
   "cell_type": "code",
   "execution_count": 12,
   "metadata": {},
   "outputs": [],
   "source": [
    "# df_sortet = df.sort_values(by=\"best_epoch\", ascending=False) # l1 equal mse"
   ]
  },
  {
   "cell_type": "markdown",
   "metadata": {},
   "source": [
    "## Load Configuartions"
   ]
  },
  {
   "cell_type": "markdown",
   "metadata": {},
   "source": [
    "### Vorherige Arbeit"
   ]
  },
  {
   "cell_type": "code",
   "execution_count": 153,
   "metadata": {},
   "outputs": [],
   "source": [
    "file_path = r'\\\\srvditz1\\lac\\Studenten\\AE_VoE_Stud\\Sven Burckhard\\Results\\Gaussian_Ditzingen_all_configs_20000imgs\\configurations.txt'"
   ]
  },
  {
   "cell_type": "markdown",
   "metadata": {},
   "source": [
    "### Wrapped Phasemaks"
   ]
  },
  {
   "cell_type": "markdown",
   "metadata": {},
   "source": [
    "#### Gaussian "
   ]
  },
  {
   "cell_type": "code",
   "execution_count": 27,
   "metadata": {},
   "outputs": [],
   "source": [
    "file_path = r'\\\\srvditz1\\lac\\Studenten\\AE_VoE_Stud\\Sven Burckhard\\Results\\Final_Ditzingen\\Real_Gaussian_Abb08_all_config_Max_Epochs\\Results_real_ditzingen_gaussian_Abb08_all_configs_dataset_cleaned\\configurations.txt'"
   ]
  },
  {
   "cell_type": "markdown",
   "metadata": {},
   "source": [
    "#### Vortex"
   ]
  },
  {
   "cell_type": "code",
   "execution_count": 36,
   "metadata": {},
   "outputs": [],
   "source": [
    "file_path = r'\\\\srvditz1\\lac\\Studenten\\AE_VoE_Stud\\Sven Burckhard\\Results\\Final_Ditzingen\\Real_Vortex_Abb08_all_config_Max_Epochs\\Results_real_ditzingen_vortex_Abb08_all_configs_dataset_cleaned\\configurations.txt'"
   ]
  },
  {
   "cell_type": "markdown",
   "metadata": {},
   "source": [
    "### Unwrapped Phasemaks"
   ]
  },
  {
   "cell_type": "markdown",
   "metadata": {},
   "source": [
    "#### Gaussian"
   ]
  },
  {
   "cell_type": "code",
   "execution_count": 44,
   "metadata": {},
   "outputs": [],
   "source": [
    "file_path = r'\\\\srvditz1\\lac\\Studenten\\AE_VoE_Stud\\Sven Burckhard\\Results\\Final_Ditzingen\\unwrapped\\Ditzingen_Gaussian_Unwrapped_All_configs\\configurations.txt'"
   ]
  },
  {
   "cell_type": "markdown",
   "metadata": {},
   "source": [
    "#### Vortex"
   ]
  },
  {
   "cell_type": "code",
   "execution_count": 52,
   "metadata": {},
   "outputs": [],
   "source": [
    "file_path = r'\\\\srvditz1\\lac\\Studenten\\AE_VoE_Stud\\Sven Burckhard\\Results\\Final_Ditzingen\\unwrapped\\Ditzingen_Vortex_Unwrapped_All_configs\\configurations.txt'"
   ]
  },
  {
   "cell_type": "code",
   "execution_count": 154,
   "metadata": {},
   "outputs": [
    {
     "name": "stdout",
     "output_type": "stream",
     "text": [
      "[(0, {'BATCH_SIZE': 64, 'LAMBDA': 1, 'USE_L2_LOSS': False, 'N_EPOCHS': 50, 'BATCHES_TO_PLOT': 2, 'USE_BIAS_TERM': True, 'USE_CUSTOM_DISTANCE_MEASURE': False, 'LEARNING_RATE': 0.0002, 'BETA_1': 0.5, 'USE_SKIP_CONNECTIONS': True, 'DROPOUT_VALUE': 0.5}), (1, {'BATCH_SIZE': 64, 'LAMBDA': 1, 'USE_L2_LOSS': False, 'N_EPOCHS': 50, 'BATCHES_TO_PLOT': 2, 'USE_BIAS_TERM': True, 'USE_CUSTOM_DISTANCE_MEASURE': False, 'LEARNING_RATE': 0.0002, 'BETA_1': 0.5, 'USE_SKIP_CONNECTIONS': False, 'DROPOUT_VALUE': 0.5}), (2, {'BATCH_SIZE': 64, 'LAMBDA': 1, 'USE_L2_LOSS': False, 'N_EPOCHS': 50, 'BATCHES_TO_PLOT': 2, 'USE_BIAS_TERM': True, 'USE_CUSTOM_DISTANCE_MEASURE': False, 'LEARNING_RATE': 0.0002, 'BETA_1': 0.5, 'USE_SKIP_CONNECTIONS': True, 'DROPOUT_VALUE': 0.1}), (3, {'BATCH_SIZE': 64, 'LAMBDA': 1, 'USE_L2_LOSS': False, 'N_EPOCHS': 50, 'BATCHES_TO_PLOT': 2, 'USE_BIAS_TERM': True, 'USE_CUSTOM_DISTANCE_MEASURE': False, 'LEARNING_RATE': 0.0002, 'BETA_1': 0.5, 'USE_SKIP_CONNECTIONS': False, 'DROPOUT_VALUE': 0.1}), (4, {'BATCH_SIZE': 64, 'LAMBDA': 1, 'USE_L2_LOSS': True, 'N_EPOCHS': 50, 'BATCHES_TO_PLOT': 2, 'USE_BIAS_TERM': True, 'USE_CUSTOM_DISTANCE_MEASURE': False, 'LEARNING_RATE': 0.0002, 'BETA_1': 0.5, 'USE_SKIP_CONNECTIONS': True, 'DROPOUT_VALUE': 0.5}), (5, {'BATCH_SIZE': 64, 'LAMBDA': 1, 'USE_L2_LOSS': True, 'N_EPOCHS': 50, 'BATCHES_TO_PLOT': 2, 'USE_BIAS_TERM': True, 'USE_CUSTOM_DISTANCE_MEASURE': False, 'LEARNING_RATE': 0.0002, 'BETA_1': 0.5, 'USE_SKIP_CONNECTIONS': False, 'DROPOUT_VALUE': 0.5}), (6, {'BATCH_SIZE': 64, 'LAMBDA': 1, 'USE_L2_LOSS': True, 'N_EPOCHS': 50, 'BATCHES_TO_PLOT': 2, 'USE_BIAS_TERM': True, 'USE_CUSTOM_DISTANCE_MEASURE': False, 'LEARNING_RATE': 0.0002, 'BETA_1': 0.5, 'USE_SKIP_CONNECTIONS': True, 'DROPOUT_VALUE': 0.1}), (7, {'BATCH_SIZE': 64, 'LAMBDA': 1, 'USE_L2_LOSS': True, 'N_EPOCHS': 50, 'BATCHES_TO_PLOT': 2, 'USE_BIAS_TERM': True, 'USE_CUSTOM_DISTANCE_MEASURE': False, 'LEARNING_RATE': 0.0002, 'BETA_1': 0.5, 'USE_SKIP_CONNECTIONS': False, 'DROPOUT_VALUE': 0.1}), (8, {'BATCH_SIZE': 64, 'LAMBDA': 1, 'USE_L2_LOSS': False, 'N_EPOCHS': 50, 'BATCHES_TO_PLOT': 2, 'USE_BIAS_TERM': False, 'USE_CUSTOM_DISTANCE_MEASURE': False, 'LEARNING_RATE': 0.0002, 'BETA_1': 0.5, 'USE_SKIP_CONNECTIONS': True, 'DROPOUT_VALUE': 0.5}), (9, {'BATCH_SIZE': 64, 'LAMBDA': 1, 'USE_L2_LOSS': False, 'N_EPOCHS': 50, 'BATCHES_TO_PLOT': 2, 'USE_BIAS_TERM': False, 'USE_CUSTOM_DISTANCE_MEASURE': False, 'LEARNING_RATE': 0.0002, 'BETA_1': 0.5, 'USE_SKIP_CONNECTIONS': False, 'DROPOUT_VALUE': 0.5}), (10, {'BATCH_SIZE': 64, 'LAMBDA': 1, 'USE_L2_LOSS': False, 'N_EPOCHS': 50, 'BATCHES_TO_PLOT': 2, 'USE_BIAS_TERM': False, 'USE_CUSTOM_DISTANCE_MEASURE': False, 'LEARNING_RATE': 0.0002, 'BETA_1': 0.5, 'USE_SKIP_CONNECTIONS': True, 'DROPOUT_VALUE': 0.1}), (11, {'BATCH_SIZE': 64, 'LAMBDA': 1, 'USE_L2_LOSS': False, 'N_EPOCHS': 50, 'BATCHES_TO_PLOT': 2, 'USE_BIAS_TERM': False, 'USE_CUSTOM_DISTANCE_MEASURE': False, 'LEARNING_RATE': 0.0002, 'BETA_1': 0.5, 'USE_SKIP_CONNECTIONS': False, 'DROPOUT_VALUE': 0.1}), (12, {'BATCH_SIZE': 64, 'LAMBDA': 1, 'USE_L2_LOSS': True, 'N_EPOCHS': 50, 'BATCHES_TO_PLOT': 2, 'USE_BIAS_TERM': False, 'USE_CUSTOM_DISTANCE_MEASURE': False, 'LEARNING_RATE': 0.0002, 'BETA_1': 0.5, 'USE_SKIP_CONNECTIONS': True, 'DROPOUT_VALUE': 0.5}), (13, {'BATCH_SIZE': 64, 'LAMBDA': 1, 'USE_L2_LOSS': True, 'N_EPOCHS': 50, 'BATCHES_TO_PLOT': 2, 'USE_BIAS_TERM': False, 'USE_CUSTOM_DISTANCE_MEASURE': False, 'LEARNING_RATE': 0.0002, 'BETA_1': 0.5, 'USE_SKIP_CONNECTIONS': False, 'DROPOUT_VALUE': 0.5}), (14, {'BATCH_SIZE': 64, 'LAMBDA': 1, 'USE_L2_LOSS': True, 'N_EPOCHS': 50, 'BATCHES_TO_PLOT': 2, 'USE_BIAS_TERM': False, 'USE_CUSTOM_DISTANCE_MEASURE': False, 'LEARNING_RATE': 0.0002, 'BETA_1': 0.5, 'USE_SKIP_CONNECTIONS': True, 'DROPOUT_VALUE': 0.1}), (15, {'BATCH_SIZE': 64, 'LAMBDA': 1, 'USE_L2_LOSS': True, 'N_EPOCHS': 50, 'BATCHES_TO_PLOT': 2, 'USE_BIAS_TERM': False, 'USE_CUSTOM_DISTANCE_MEASURE': False, 'LEARNING_RATE': 0.0002, 'BETA_1': 0.5, 'USE_SKIP_CONNECTIONS': False, 'DROPOUT_VALUE': 0.1}), (16, {'BATCH_SIZE': 64, 'LAMBDA': 1, 'USE_L2_LOSS': False, 'N_EPOCHS': 50, 'BATCHES_TO_PLOT': 2, 'USE_BIAS_TERM': True, 'USE_CUSTOM_DISTANCE_MEASURE': False, 'LEARNING_RATE': 0.001, 'BETA_1': 0.9, 'USE_SKIP_CONNECTIONS': True, 'DROPOUT_VALUE': 0.5}), (17, {'BATCH_SIZE': 64, 'LAMBDA': 1, 'USE_L2_LOSS': False, 'N_EPOCHS': 50, 'BATCHES_TO_PLOT': 2, 'USE_BIAS_TERM': True, 'USE_CUSTOM_DISTANCE_MEASURE': False, 'LEARNING_RATE': 0.001, 'BETA_1': 0.9, 'USE_SKIP_CONNECTIONS': False, 'DROPOUT_VALUE': 0.5}), (18, {'BATCH_SIZE': 64, 'LAMBDA': 1, 'USE_L2_LOSS': False, 'N_EPOCHS': 50, 'BATCHES_TO_PLOT': 2, 'USE_BIAS_TERM': True, 'USE_CUSTOM_DISTANCE_MEASURE': False, 'LEARNING_RATE': 0.001, 'BETA_1': 0.9, 'USE_SKIP_CONNECTIONS': True, 'DROPOUT_VALUE': 0.1}), (19, {'BATCH_SIZE': 64, 'LAMBDA': 1, 'USE_L2_LOSS': False, 'N_EPOCHS': 50, 'BATCHES_TO_PLOT': 2, 'USE_BIAS_TERM': True, 'USE_CUSTOM_DISTANCE_MEASURE': False, 'LEARNING_RATE': 0.001, 'BETA_1': 0.9, 'USE_SKIP_CONNECTIONS': False, 'DROPOUT_VALUE': 0.1}), (20, {'BATCH_SIZE': 64, 'LAMBDA': 1, 'USE_L2_LOSS': True, 'N_EPOCHS': 50, 'BATCHES_TO_PLOT': 2, 'USE_BIAS_TERM': True, 'USE_CUSTOM_DISTANCE_MEASURE': False, 'LEARNING_RATE': 0.001, 'BETA_1': 0.9, 'USE_SKIP_CONNECTIONS': True, 'DROPOUT_VALUE': 0.5}), (21, {'BATCH_SIZE': 64, 'LAMBDA': 1, 'USE_L2_LOSS': True, 'N_EPOCHS': 50, 'BATCHES_TO_PLOT': 2, 'USE_BIAS_TERM': True, 'USE_CUSTOM_DISTANCE_MEASURE': False, 'LEARNING_RATE': 0.001, 'BETA_1': 0.9, 'USE_SKIP_CONNECTIONS': False, 'DROPOUT_VALUE': 0.5}), (22, {'BATCH_SIZE': 64, 'LAMBDA': 1, 'USE_L2_LOSS': True, 'N_EPOCHS': 50, 'BATCHES_TO_PLOT': 2, 'USE_BIAS_TERM': True, 'USE_CUSTOM_DISTANCE_MEASURE': False, 'LEARNING_RATE': 0.001, 'BETA_1': 0.9, 'USE_SKIP_CONNECTIONS': True, 'DROPOUT_VALUE': 0.1}), (23, {'BATCH_SIZE': 64, 'LAMBDA': 1, 'USE_L2_LOSS': True, 'N_EPOCHS': 50, 'BATCHES_TO_PLOT': 2, 'USE_BIAS_TERM': True, 'USE_CUSTOM_DISTANCE_MEASURE': False, 'LEARNING_RATE': 0.001, 'BETA_1': 0.9, 'USE_SKIP_CONNECTIONS': False, 'DROPOUT_VALUE': 0.1}), (24, {'BATCH_SIZE': 64, 'LAMBDA': 1, 'USE_L2_LOSS': False, 'N_EPOCHS': 50, 'BATCHES_TO_PLOT': 2, 'USE_BIAS_TERM': False, 'USE_CUSTOM_DISTANCE_MEASURE': False, 'LEARNING_RATE': 0.001, 'BETA_1': 0.9, 'USE_SKIP_CONNECTIONS': True, 'DROPOUT_VALUE': 0.5}), (25, {'BATCH_SIZE': 64, 'LAMBDA': 1, 'USE_L2_LOSS': False, 'N_EPOCHS': 50, 'BATCHES_TO_PLOT': 2, 'USE_BIAS_TERM': False, 'USE_CUSTOM_DISTANCE_MEASURE': False, 'LEARNING_RATE': 0.001, 'BETA_1': 0.9, 'USE_SKIP_CONNECTIONS': False, 'DROPOUT_VALUE': 0.5}), (26, {'BATCH_SIZE': 64, 'LAMBDA': 1, 'USE_L2_LOSS': False, 'N_EPOCHS': 50, 'BATCHES_TO_PLOT': 2, 'USE_BIAS_TERM': False, 'USE_CUSTOM_DISTANCE_MEASURE': False, 'LEARNING_RATE': 0.001, 'BETA_1': 0.9, 'USE_SKIP_CONNECTIONS': True, 'DROPOUT_VALUE': 0.1}), (27, {'BATCH_SIZE': 64, 'LAMBDA': 1, 'USE_L2_LOSS': False, 'N_EPOCHS': 50, 'BATCHES_TO_PLOT': 2, 'USE_BIAS_TERM': False, 'USE_CUSTOM_DISTANCE_MEASURE': False, 'LEARNING_RATE': 0.001, 'BETA_1': 0.9, 'USE_SKIP_CONNECTIONS': False, 'DROPOUT_VALUE': 0.1}), (28, {'BATCH_SIZE': 64, 'LAMBDA': 1, 'USE_L2_LOSS': True, 'N_EPOCHS': 50, 'BATCHES_TO_PLOT': 2, 'USE_BIAS_TERM': False, 'USE_CUSTOM_DISTANCE_MEASURE': False, 'LEARNING_RATE': 0.001, 'BETA_1': 0.9, 'USE_SKIP_CONNECTIONS': True, 'DROPOUT_VALUE': 0.5}), (29, {'BATCH_SIZE': 64, 'LAMBDA': 1, 'USE_L2_LOSS': True, 'N_EPOCHS': 50, 'BATCHES_TO_PLOT': 2, 'USE_BIAS_TERM': False, 'USE_CUSTOM_DISTANCE_MEASURE': False, 'LEARNING_RATE': 0.001, 'BETA_1': 0.9, 'USE_SKIP_CONNECTIONS': False, 'DROPOUT_VALUE': 0.5}), (30, {'BATCH_SIZE': 64, 'LAMBDA': 1, 'USE_L2_LOSS': True, 'N_EPOCHS': 50, 'BATCHES_TO_PLOT': 2, 'USE_BIAS_TERM': False, 'USE_CUSTOM_DISTANCE_MEASURE': False, 'LEARNING_RATE': 0.001, 'BETA_1': 0.9, 'USE_SKIP_CONNECTIONS': True, 'DROPOUT_VALUE': 0.1}), (31, {'BATCH_SIZE': 64, 'LAMBDA': 1, 'USE_L2_LOSS': True, 'N_EPOCHS': 50, 'BATCHES_TO_PLOT': 2, 'USE_BIAS_TERM': False, 'USE_CUSTOM_DISTANCE_MEASURE': False, 'LEARNING_RATE': 0.001, 'BETA_1': 0.9, 'USE_SKIP_CONNECTIONS': False, 'DROPOUT_VALUE': 0.1}), (32, {'BATCH_SIZE': 64, 'LAMBDA': 1, 'USE_L2_LOSS': False, 'N_EPOCHS': 50, 'BATCHES_TO_PLOT': 2, 'USE_BIAS_TERM': True, 'USE_CUSTOM_DISTANCE_MEASURE': False, 'LEARNING_RATE': 1e-05, 'BETA_1': 0.9, 'USE_SKIP_CONNECTIONS': True, 'DROPOUT_VALUE': 0.5}), (33, {'BATCH_SIZE': 64, 'LAMBDA': 1, 'USE_L2_LOSS': False, 'N_EPOCHS': 50, 'BATCHES_TO_PLOT': 2, 'USE_BIAS_TERM': True, 'USE_CUSTOM_DISTANCE_MEASURE': False, 'LEARNING_RATE': 1e-05, 'BETA_1': 0.9, 'USE_SKIP_CONNECTIONS': False, 'DROPOUT_VALUE': 0.5}), (34, {'BATCH_SIZE': 64, 'LAMBDA': 1, 'USE_L2_LOSS': False, 'N_EPOCHS': 50, 'BATCHES_TO_PLOT': 2, 'USE_BIAS_TERM': True, 'USE_CUSTOM_DISTANCE_MEASURE': False, 'LEARNING_RATE': 1e-05, 'BETA_1': 0.9, 'USE_SKIP_CONNECTIONS': True, 'DROPOUT_VALUE': 0.1}), (35, {'BATCH_SIZE': 64, 'LAMBDA': 1, 'USE_L2_LOSS': False, 'N_EPOCHS': 50, 'BATCHES_TO_PLOT': 2, 'USE_BIAS_TERM': True, 'USE_CUSTOM_DISTANCE_MEASURE': False, 'LEARNING_RATE': 1e-05, 'BETA_1': 0.9, 'USE_SKIP_CONNECTIONS': False, 'DROPOUT_VALUE': 0.1}), (36, {'BATCH_SIZE': 64, 'LAMBDA': 1, 'USE_L2_LOSS': True, 'N_EPOCHS': 50, 'BATCHES_TO_PLOT': 2, 'USE_BIAS_TERM': True, 'USE_CUSTOM_DISTANCE_MEASURE': False, 'LEARNING_RATE': 1e-05, 'BETA_1': 0.9, 'USE_SKIP_CONNECTIONS': True, 'DROPOUT_VALUE': 0.5}), (37, {'BATCH_SIZE': 64, 'LAMBDA': 1, 'USE_L2_LOSS': True, 'N_EPOCHS': 50, 'BATCHES_TO_PLOT': 2, 'USE_BIAS_TERM': True, 'USE_CUSTOM_DISTANCE_MEASURE': False, 'LEARNING_RATE': 1e-05, 'BETA_1': 0.9, 'USE_SKIP_CONNECTIONS': False, 'DROPOUT_VALUE': 0.5}), (38, {'BATCH_SIZE': 64, 'LAMBDA': 1, 'USE_L2_LOSS': True, 'N_EPOCHS': 50, 'BATCHES_TO_PLOT': 2, 'USE_BIAS_TERM': True, 'USE_CUSTOM_DISTANCE_MEASURE': False, 'LEARNING_RATE': 1e-05, 'BETA_1': 0.9, 'USE_SKIP_CONNECTIONS': True, 'DROPOUT_VALUE': 0.1}), (39, {'BATCH_SIZE': 64, 'LAMBDA': 1, 'USE_L2_LOSS': True, 'N_EPOCHS': 50, 'BATCHES_TO_PLOT': 2, 'USE_BIAS_TERM': True, 'USE_CUSTOM_DISTANCE_MEASURE': False, 'LEARNING_RATE': 1e-05, 'BETA_1': 0.9, 'USE_SKIP_CONNECTIONS': False, 'DROPOUT_VALUE': 0.1}), (40, {'BATCH_SIZE': 64, 'LAMBDA': 1, 'USE_L2_LOSS': False, 'N_EPOCHS': 50, 'BATCHES_TO_PLOT': 2, 'USE_BIAS_TERM': False, 'USE_CUSTOM_DISTANCE_MEASURE': False, 'LEARNING_RATE': 1e-05, 'BETA_1': 0.9, 'USE_SKIP_CONNECTIONS': True, 'DROPOUT_VALUE': 0.5}), (41, {'BATCH_SIZE': 64, 'LAMBDA': 1, 'USE_L2_LOSS': False, 'N_EPOCHS': 50, 'BATCHES_TO_PLOT': 2, 'USE_BIAS_TERM': False, 'USE_CUSTOM_DISTANCE_MEASURE': False, 'LEARNING_RATE': 1e-05, 'BETA_1': 0.9, 'USE_SKIP_CONNECTIONS': False, 'DROPOUT_VALUE': 0.5}), (42, {'BATCH_SIZE': 64, 'LAMBDA': 1, 'USE_L2_LOSS': False, 'N_EPOCHS': 50, 'BATCHES_TO_PLOT': 2, 'USE_BIAS_TERM': False, 'USE_CUSTOM_DISTANCE_MEASURE': False, 'LEARNING_RATE': 1e-05, 'BETA_1': 0.9, 'USE_SKIP_CONNECTIONS': True, 'DROPOUT_VALUE': 0.1}), (43, {'BATCH_SIZE': 64, 'LAMBDA': 1, 'USE_L2_LOSS': False, 'N_EPOCHS': 50, 'BATCHES_TO_PLOT': 2, 'USE_BIAS_TERM': False, 'USE_CUSTOM_DISTANCE_MEASURE': False, 'LEARNING_RATE': 1e-05, 'BETA_1': 0.9, 'USE_SKIP_CONNECTIONS': False, 'DROPOUT_VALUE': 0.1}), (44, {'BATCH_SIZE': 64, 'LAMBDA': 1, 'USE_L2_LOSS': True, 'N_EPOCHS': 50, 'BATCHES_TO_PLOT': 2, 'USE_BIAS_TERM': False, 'USE_CUSTOM_DISTANCE_MEASURE': False, 'LEARNING_RATE': 1e-05, 'BETA_1': 0.9, 'USE_SKIP_CONNECTIONS': True, 'DROPOUT_VALUE': 0.5}), (45, {'BATCH_SIZE': 64, 'LAMBDA': 1, 'USE_L2_LOSS': True, 'N_EPOCHS': 50, 'BATCHES_TO_PLOT': 2, 'USE_BIAS_TERM': False, 'USE_CUSTOM_DISTANCE_MEASURE': False, 'LEARNING_RATE': 1e-05, 'BETA_1': 0.9, 'USE_SKIP_CONNECTIONS': False, 'DROPOUT_VALUE': 0.5}), (46, {'BATCH_SIZE': 64, 'LAMBDA': 1, 'USE_L2_LOSS': True, 'N_EPOCHS': 50, 'BATCHES_TO_PLOT': 2, 'USE_BIAS_TERM': False, 'USE_CUSTOM_DISTANCE_MEASURE': False, 'LEARNING_RATE': 1e-05, 'BETA_1': 0.9, 'USE_SKIP_CONNECTIONS': True, 'DROPOUT_VALUE': 0.1}), (47, {'BATCH_SIZE': 64, 'LAMBDA': 1, 'USE_L2_LOSS': True, 'N_EPOCHS': 50, 'BATCHES_TO_PLOT': 2, 'USE_BIAS_TERM': False, 'USE_CUSTOM_DISTANCE_MEASURE': False, 'LEARNING_RATE': 1e-05, 'BETA_1': 0.9, 'USE_SKIP_CONNECTIONS': False, 'DROPOUT_VALUE': 0.1}), (48, {'BATCH_SIZE': 1, 'LAMBDA': 1, 'USE_L2_LOSS': False, 'N_EPOCHS': 50, 'BATCHES_TO_PLOT': 128, 'USE_BIAS_TERM': True, 'USE_CUSTOM_DISTANCE_MEASURE': False, 'LEARNING_RATE': 0.0002, 'BETA_1': 0.5, 'USE_SKIP_CONNECTIONS': True, 'DROPOUT_VALUE': 0.5}), (49, {'BATCH_SIZE': 1, 'LAMBDA': 1, 'USE_L2_LOSS': False, 'N_EPOCHS': 50, 'BATCHES_TO_PLOT': 128, 'USE_BIAS_TERM': True, 'USE_CUSTOM_DISTANCE_MEASURE': False, 'LEARNING_RATE': 0.0002, 'BETA_1': 0.5, 'USE_SKIP_CONNECTIONS': False, 'DROPOUT_VALUE': 0.5}), (50, {'BATCH_SIZE': 1, 'LAMBDA': 1, 'USE_L2_LOSS': False, 'N_EPOCHS': 50, 'BATCHES_TO_PLOT': 128, 'USE_BIAS_TERM': True, 'USE_CUSTOM_DISTANCE_MEASURE': False, 'LEARNING_RATE': 0.0002, 'BETA_1': 0.5, 'USE_SKIP_CONNECTIONS': True, 'DROPOUT_VALUE': 0.1}), (51, {'BATCH_SIZE': 1, 'LAMBDA': 1, 'USE_L2_LOSS': False, 'N_EPOCHS': 50, 'BATCHES_TO_PLOT': 128, 'USE_BIAS_TERM': True, 'USE_CUSTOM_DISTANCE_MEASURE': False, 'LEARNING_RATE': 0.0002, 'BETA_1': 0.5, 'USE_SKIP_CONNECTIONS': False, 'DROPOUT_VALUE': 0.1}), (52, {'BATCH_SIZE': 1, 'LAMBDA': 1, 'USE_L2_LOSS': True, 'N_EPOCHS': 50, 'BATCHES_TO_PLOT': 128, 'USE_BIAS_TERM': True, 'USE_CUSTOM_DISTANCE_MEASURE': False, 'LEARNING_RATE': 0.0002, 'BETA_1': 0.5, 'USE_SKIP_CONNECTIONS': True, 'DROPOUT_VALUE': 0.5}), (53, {'BATCH_SIZE': 1, 'LAMBDA': 1, 'USE_L2_LOSS': True, 'N_EPOCHS': 50, 'BATCHES_TO_PLOT': 128, 'USE_BIAS_TERM': True, 'USE_CUSTOM_DISTANCE_MEASURE': False, 'LEARNING_RATE': 0.0002, 'BETA_1': 0.5, 'USE_SKIP_CONNECTIONS': False, 'DROPOUT_VALUE': 0.5}), (54, {'BATCH_SIZE': 1, 'LAMBDA': 1, 'USE_L2_LOSS': True, 'N_EPOCHS': 50, 'BATCHES_TO_PLOT': 128, 'USE_BIAS_TERM': True, 'USE_CUSTOM_DISTANCE_MEASURE': False, 'LEARNING_RATE': 0.0002, 'BETA_1': 0.5, 'USE_SKIP_CONNECTIONS': True, 'DROPOUT_VALUE': 0.1}), (55, {'BATCH_SIZE': 1, 'LAMBDA': 1, 'USE_L2_LOSS': True, 'N_EPOCHS': 50, 'BATCHES_TO_PLOT': 128, 'USE_BIAS_TERM': True, 'USE_CUSTOM_DISTANCE_MEASURE': False, 'LEARNING_RATE': 0.0002, 'BETA_1': 0.5, 'USE_SKIP_CONNECTIONS': False, 'DROPOUT_VALUE': 0.1}), (56, {'BATCH_SIZE': 1, 'LAMBDA': 1, 'USE_L2_LOSS': False, 'N_EPOCHS': 50, 'BATCHES_TO_PLOT': 128, 'USE_BIAS_TERM': False, 'USE_CUSTOM_DISTANCE_MEASURE': False, 'LEARNING_RATE': 0.0002, 'BETA_1': 0.5, 'USE_SKIP_CONNECTIONS': True, 'DROPOUT_VALUE': 0.5}), (57, {'BATCH_SIZE': 1, 'LAMBDA': 1, 'USE_L2_LOSS': False, 'N_EPOCHS': 50, 'BATCHES_TO_PLOT': 128, 'USE_BIAS_TERM': False, 'USE_CUSTOM_DISTANCE_MEASURE': False, 'LEARNING_RATE': 0.0002, 'BETA_1': 0.5, 'USE_SKIP_CONNECTIONS': False, 'DROPOUT_VALUE': 0.5}), (58, {'BATCH_SIZE': 1, 'LAMBDA': 1, 'USE_L2_LOSS': False, 'N_EPOCHS': 50, 'BATCHES_TO_PLOT': 128, 'USE_BIAS_TERM': False, 'USE_CUSTOM_DISTANCE_MEASURE': False, 'LEARNING_RATE': 0.0002, 'BETA_1': 0.5, 'USE_SKIP_CONNECTIONS': True, 'DROPOUT_VALUE': 0.1}), (59, {'BATCH_SIZE': 1, 'LAMBDA': 1, 'USE_L2_LOSS': False, 'N_EPOCHS': 50, 'BATCHES_TO_PLOT': 128, 'USE_BIAS_TERM': False, 'USE_CUSTOM_DISTANCE_MEASURE': False, 'LEARNING_RATE': 0.0002, 'BETA_1': 0.5, 'USE_SKIP_CONNECTIONS': False, 'DROPOUT_VALUE': 0.1}), (60, {'BATCH_SIZE': 1, 'LAMBDA': 1, 'USE_L2_LOSS': True, 'N_EPOCHS': 50, 'BATCHES_TO_PLOT': 128, 'USE_BIAS_TERM': False, 'USE_CUSTOM_DISTANCE_MEASURE': False, 'LEARNING_RATE': 0.0002, 'BETA_1': 0.5, 'USE_SKIP_CONNECTIONS': True, 'DROPOUT_VALUE': 0.5}), (61, {'BATCH_SIZE': 1, 'LAMBDA': 1, 'USE_L2_LOSS': True, 'N_EPOCHS': 50, 'BATCHES_TO_PLOT': 128, 'USE_BIAS_TERM': False, 'USE_CUSTOM_DISTANCE_MEASURE': False, 'LEARNING_RATE': 0.0002, 'BETA_1': 0.5, 'USE_SKIP_CONNECTIONS': False, 'DROPOUT_VALUE': 0.5}), (62, {'BATCH_SIZE': 1, 'LAMBDA': 1, 'USE_L2_LOSS': True, 'N_EPOCHS': 50, 'BATCHES_TO_PLOT': 128, 'USE_BIAS_TERM': False, 'USE_CUSTOM_DISTANCE_MEASURE': False, 'LEARNING_RATE': 0.0002, 'BETA_1': 0.5, 'USE_SKIP_CONNECTIONS': True, 'DROPOUT_VALUE': 0.1}), (63, {'BATCH_SIZE': 1, 'LAMBDA': 1, 'USE_L2_LOSS': True, 'N_EPOCHS': 50, 'BATCHES_TO_PLOT': 128, 'USE_BIAS_TERM': False, 'USE_CUSTOM_DISTANCE_MEASURE': False, 'LEARNING_RATE': 0.0002, 'BETA_1': 0.5, 'USE_SKIP_CONNECTIONS': False, 'DROPOUT_VALUE': 0.1}), (64, {'BATCH_SIZE': 1, 'LAMBDA': 1, 'USE_L2_LOSS': False, 'N_EPOCHS': 50, 'BATCHES_TO_PLOT': 128, 'USE_BIAS_TERM': True, 'USE_CUSTOM_DISTANCE_MEASURE': False, 'LEARNING_RATE': 0.001, 'BETA_1': 0.9, 'USE_SKIP_CONNECTIONS': True, 'DROPOUT_VALUE': 0.5}), (65, {'BATCH_SIZE': 1, 'LAMBDA': 1, 'USE_L2_LOSS': False, 'N_EPOCHS': 50, 'BATCHES_TO_PLOT': 128, 'USE_BIAS_TERM': True, 'USE_CUSTOM_DISTANCE_MEASURE': False, 'LEARNING_RATE': 0.001, 'BETA_1': 0.9, 'USE_SKIP_CONNECTIONS': False, 'DROPOUT_VALUE': 0.5}), (66, {'BATCH_SIZE': 1, 'LAMBDA': 1, 'USE_L2_LOSS': False, 'N_EPOCHS': 50, 'BATCHES_TO_PLOT': 128, 'USE_BIAS_TERM': True, 'USE_CUSTOM_DISTANCE_MEASURE': False, 'LEARNING_RATE': 0.001, 'BETA_1': 0.9, 'USE_SKIP_CONNECTIONS': True, 'DROPOUT_VALUE': 0.1}), (67, {'BATCH_SIZE': 1, 'LAMBDA': 1, 'USE_L2_LOSS': False, 'N_EPOCHS': 50, 'BATCHES_TO_PLOT': 128, 'USE_BIAS_TERM': True, 'USE_CUSTOM_DISTANCE_MEASURE': False, 'LEARNING_RATE': 0.001, 'BETA_1': 0.9, 'USE_SKIP_CONNECTIONS': False, 'DROPOUT_VALUE': 0.1}), (68, {'BATCH_SIZE': 1, 'LAMBDA': 1, 'USE_L2_LOSS': True, 'N_EPOCHS': 50, 'BATCHES_TO_PLOT': 128, 'USE_BIAS_TERM': True, 'USE_CUSTOM_DISTANCE_MEASURE': False, 'LEARNING_RATE': 0.001, 'BETA_1': 0.9, 'USE_SKIP_CONNECTIONS': True, 'DROPOUT_VALUE': 0.5}), (69, {'BATCH_SIZE': 1, 'LAMBDA': 1, 'USE_L2_LOSS': True, 'N_EPOCHS': 50, 'BATCHES_TO_PLOT': 128, 'USE_BIAS_TERM': True, 'USE_CUSTOM_DISTANCE_MEASURE': False, 'LEARNING_RATE': 0.001, 'BETA_1': 0.9, 'USE_SKIP_CONNECTIONS': False, 'DROPOUT_VALUE': 0.5}), (70, {'BATCH_SIZE': 1, 'LAMBDA': 1, 'USE_L2_LOSS': True, 'N_EPOCHS': 50, 'BATCHES_TO_PLOT': 128, 'USE_BIAS_TERM': True, 'USE_CUSTOM_DISTANCE_MEASURE': False, 'LEARNING_RATE': 0.001, 'BETA_1': 0.9, 'USE_SKIP_CONNECTIONS': True, 'DROPOUT_VALUE': 0.1}), (71, {'BATCH_SIZE': 1, 'LAMBDA': 1, 'USE_L2_LOSS': True, 'N_EPOCHS': 50, 'BATCHES_TO_PLOT': 128, 'USE_BIAS_TERM': True, 'USE_CUSTOM_DISTANCE_MEASURE': False, 'LEARNING_RATE': 0.001, 'BETA_1': 0.9, 'USE_SKIP_CONNECTIONS': False, 'DROPOUT_VALUE': 0.1}), (72, {'BATCH_SIZE': 1, 'LAMBDA': 1, 'USE_L2_LOSS': False, 'N_EPOCHS': 50, 'BATCHES_TO_PLOT': 128, 'USE_BIAS_TERM': False, 'USE_CUSTOM_DISTANCE_MEASURE': False, 'LEARNING_RATE': 0.001, 'BETA_1': 0.9, 'USE_SKIP_CONNECTIONS': True, 'DROPOUT_VALUE': 0.5}), (73, {'BATCH_SIZE': 1, 'LAMBDA': 1, 'USE_L2_LOSS': False, 'N_EPOCHS': 50, 'BATCHES_TO_PLOT': 128, 'USE_BIAS_TERM': False, 'USE_CUSTOM_DISTANCE_MEASURE': False, 'LEARNING_RATE': 0.001, 'BETA_1': 0.9, 'USE_SKIP_CONNECTIONS': False, 'DROPOUT_VALUE': 0.5}), (74, {'BATCH_SIZE': 1, 'LAMBDA': 1, 'USE_L2_LOSS': False, 'N_EPOCHS': 50, 'BATCHES_TO_PLOT': 128, 'USE_BIAS_TERM': False, 'USE_CUSTOM_DISTANCE_MEASURE': False, 'LEARNING_RATE': 0.001, 'BETA_1': 0.9, 'USE_SKIP_CONNECTIONS': True, 'DROPOUT_VALUE': 0.1}), (75, {'BATCH_SIZE': 1, 'LAMBDA': 1, 'USE_L2_LOSS': False, 'N_EPOCHS': 50, 'BATCHES_TO_PLOT': 128, 'USE_BIAS_TERM': False, 'USE_CUSTOM_DISTANCE_MEASURE': False, 'LEARNING_RATE': 0.001, 'BETA_1': 0.9, 'USE_SKIP_CONNECTIONS': False, 'DROPOUT_VALUE': 0.1}), (76, {'BATCH_SIZE': 1, 'LAMBDA': 1, 'USE_L2_LOSS': True, 'N_EPOCHS': 50, 'BATCHES_TO_PLOT': 128, 'USE_BIAS_TERM': False, 'USE_CUSTOM_DISTANCE_MEASURE': False, 'LEARNING_RATE': 0.001, 'BETA_1': 0.9, 'USE_SKIP_CONNECTIONS': True, 'DROPOUT_VALUE': 0.5}), (77, {'BATCH_SIZE': 1, 'LAMBDA': 1, 'USE_L2_LOSS': True, 'N_EPOCHS': 50, 'BATCHES_TO_PLOT': 128, 'USE_BIAS_TERM': False, 'USE_CUSTOM_DISTANCE_MEASURE': False, 'LEARNING_RATE': 0.001, 'BETA_1': 0.9, 'USE_SKIP_CONNECTIONS': False, 'DROPOUT_VALUE': 0.5}), (78, {'BATCH_SIZE': 1, 'LAMBDA': 1, 'USE_L2_LOSS': True, 'N_EPOCHS': 50, 'BATCHES_TO_PLOT': 128, 'USE_BIAS_TERM': False, 'USE_CUSTOM_DISTANCE_MEASURE': False, 'LEARNING_RATE': 0.001, 'BETA_1': 0.9, 'USE_SKIP_CONNECTIONS': True, 'DROPOUT_VALUE': 0.1}), (79, {'BATCH_SIZE': 1, 'LAMBDA': 1, 'USE_L2_LOSS': True, 'N_EPOCHS': 50, 'BATCHES_TO_PLOT': 128, 'USE_BIAS_TERM': False, 'USE_CUSTOM_DISTANCE_MEASURE': False, 'LEARNING_RATE': 0.001, 'BETA_1': 0.9, 'USE_SKIP_CONNECTIONS': False, 'DROPOUT_VALUE': 0.1}), (80, {'BATCH_SIZE': 1, 'LAMBDA': 1, 'USE_L2_LOSS': False, 'N_EPOCHS': 50, 'BATCHES_TO_PLOT': 128, 'USE_BIAS_TERM': True, 'USE_CUSTOM_DISTANCE_MEASURE': False, 'LEARNING_RATE': 1e-05, 'BETA_1': 0.9, 'USE_SKIP_CONNECTIONS': True, 'DROPOUT_VALUE': 0.5}), (81, {'BATCH_SIZE': 1, 'LAMBDA': 1, 'USE_L2_LOSS': False, 'N_EPOCHS': 50, 'BATCHES_TO_PLOT': 128, 'USE_BIAS_TERM': True, 'USE_CUSTOM_DISTANCE_MEASURE': False, 'LEARNING_RATE': 1e-05, 'BETA_1': 0.9, 'USE_SKIP_CONNECTIONS': False, 'DROPOUT_VALUE': 0.5}), (82, {'BATCH_SIZE': 1, 'LAMBDA': 1, 'USE_L2_LOSS': False, 'N_EPOCHS': 50, 'BATCHES_TO_PLOT': 128, 'USE_BIAS_TERM': True, 'USE_CUSTOM_DISTANCE_MEASURE': False, 'LEARNING_RATE': 1e-05, 'BETA_1': 0.9, 'USE_SKIP_CONNECTIONS': True, 'DROPOUT_VALUE': 0.1}), (83, {'BATCH_SIZE': 1, 'LAMBDA': 1, 'USE_L2_LOSS': False, 'N_EPOCHS': 50, 'BATCHES_TO_PLOT': 128, 'USE_BIAS_TERM': True, 'USE_CUSTOM_DISTANCE_MEASURE': False, 'LEARNING_RATE': 1e-05, 'BETA_1': 0.9, 'USE_SKIP_CONNECTIONS': False, 'DROPOUT_VALUE': 0.1}), (84, {'BATCH_SIZE': 1, 'LAMBDA': 1, 'USE_L2_LOSS': True, 'N_EPOCHS': 50, 'BATCHES_TO_PLOT': 128, 'USE_BIAS_TERM': True, 'USE_CUSTOM_DISTANCE_MEASURE': False, 'LEARNING_RATE': 1e-05, 'BETA_1': 0.9, 'USE_SKIP_CONNECTIONS': True, 'DROPOUT_VALUE': 0.5}), (85, {'BATCH_SIZE': 1, 'LAMBDA': 1, 'USE_L2_LOSS': True, 'N_EPOCHS': 50, 'BATCHES_TO_PLOT': 128, 'USE_BIAS_TERM': True, 'USE_CUSTOM_DISTANCE_MEASURE': False, 'LEARNING_RATE': 1e-05, 'BETA_1': 0.9, 'USE_SKIP_CONNECTIONS': False, 'DROPOUT_VALUE': 0.5}), (86, {'BATCH_SIZE': 1, 'LAMBDA': 1, 'USE_L2_LOSS': True, 'N_EPOCHS': 50, 'BATCHES_TO_PLOT': 128, 'USE_BIAS_TERM': True, 'USE_CUSTOM_DISTANCE_MEASURE': False, 'LEARNING_RATE': 1e-05, 'BETA_1': 0.9, 'USE_SKIP_CONNECTIONS': True, 'DROPOUT_VALUE': 0.1}), (87, {'BATCH_SIZE': 1, 'LAMBDA': 1, 'USE_L2_LOSS': True, 'N_EPOCHS': 50, 'BATCHES_TO_PLOT': 128, 'USE_BIAS_TERM': True, 'USE_CUSTOM_DISTANCE_MEASURE': False, 'LEARNING_RATE': 1e-05, 'BETA_1': 0.9, 'USE_SKIP_CONNECTIONS': False, 'DROPOUT_VALUE': 0.1}), (88, {'BATCH_SIZE': 1, 'LAMBDA': 1, 'USE_L2_LOSS': False, 'N_EPOCHS': 50, 'BATCHES_TO_PLOT': 128, 'USE_BIAS_TERM': False, 'USE_CUSTOM_DISTANCE_MEASURE': False, 'LEARNING_RATE': 1e-05, 'BETA_1': 0.9, 'USE_SKIP_CONNECTIONS': True, 'DROPOUT_VALUE': 0.5}), (89, {'BATCH_SIZE': 1, 'LAMBDA': 1, 'USE_L2_LOSS': False, 'N_EPOCHS': 50, 'BATCHES_TO_PLOT': 128, 'USE_BIAS_TERM': False, 'USE_CUSTOM_DISTANCE_MEASURE': False, 'LEARNING_RATE': 1e-05, 'BETA_1': 0.9, 'USE_SKIP_CONNECTIONS': False, 'DROPOUT_VALUE': 0.5}), (90, {'BATCH_SIZE': 1, 'LAMBDA': 1, 'USE_L2_LOSS': False, 'N_EPOCHS': 50, 'BATCHES_TO_PLOT': 128, 'USE_BIAS_TERM': False, 'USE_CUSTOM_DISTANCE_MEASURE': False, 'LEARNING_RATE': 1e-05, 'BETA_1': 0.9, 'USE_SKIP_CONNECTIONS': True, 'DROPOUT_VALUE': 0.1}), (91, {'BATCH_SIZE': 1, 'LAMBDA': 1, 'USE_L2_LOSS': False, 'N_EPOCHS': 50, 'BATCHES_TO_PLOT': 128, 'USE_BIAS_TERM': False, 'USE_CUSTOM_DISTANCE_MEASURE': False, 'LEARNING_RATE': 1e-05, 'BETA_1': 0.9, 'USE_SKIP_CONNECTIONS': False, 'DROPOUT_VALUE': 0.1}), (92, {'BATCH_SIZE': 1, 'LAMBDA': 1, 'USE_L2_LOSS': True, 'N_EPOCHS': 50, 'BATCHES_TO_PLOT': 128, 'USE_BIAS_TERM': False, 'USE_CUSTOM_DISTANCE_MEASURE': False, 'LEARNING_RATE': 1e-05, 'BETA_1': 0.9, 'USE_SKIP_CONNECTIONS': True, 'DROPOUT_VALUE': 0.5}), (93, {'BATCH_SIZE': 1, 'LAMBDA': 1, 'USE_L2_LOSS': True, 'N_EPOCHS': 50, 'BATCHES_TO_PLOT': 128, 'USE_BIAS_TERM': False, 'USE_CUSTOM_DISTANCE_MEASURE': False, 'LEARNING_RATE': 1e-05, 'BETA_1': 0.9, 'USE_SKIP_CONNECTIONS': False, 'DROPOUT_VALUE': 0.5}), (94, {'BATCH_SIZE': 1, 'LAMBDA': 1, 'USE_L2_LOSS': True, 'N_EPOCHS': 50, 'BATCHES_TO_PLOT': 128, 'USE_BIAS_TERM': False, 'USE_CUSTOM_DISTANCE_MEASURE': False, 'LEARNING_RATE': 1e-05, 'BETA_1': 0.9, 'USE_SKIP_CONNECTIONS': True, 'DROPOUT_VALUE': 0.1}), (95, {'BATCH_SIZE': 1, 'LAMBDA': 1, 'USE_L2_LOSS': True, 'N_EPOCHS': 50, 'BATCHES_TO_PLOT': 128, 'USE_BIAS_TERM': False, 'USE_CUSTOM_DISTANCE_MEASURE': False, 'LEARNING_RATE': 1e-05, 'BETA_1': 0.9, 'USE_SKIP_CONNECTIONS': False, 'DROPOUT_VALUE': 0.1})]\n",
      "\n"
     ]
    }
   ],
   "source": [
    "import pandas as pd\n",
    "import ast\n",
    "\n",
    "def read_configurations(file_path):\n",
    "    with open(file_path, 'r') as file:\n",
    "        lines = file.readlines()\n",
    "        \n",
    "    # Extrahiere den relevanten Teil der Datei, der die Konfigurationen enthält\n",
    "    config_lines = lines[2:-1]\n",
    "    \n",
    "    # Füge die Konfigurationszeilen zu einem String zusammen\n",
    "    config_string = ''.join(config_lines)\n",
    "\n",
    "    print(config_string)\n",
    "    \n",
    "    # Konvertiere den String in eine Liste von Tuplen\n",
    "    config_list = ast.literal_eval(config_string)\n",
    "    \n",
    "    # Konvertiere die Liste von Tuplen in eine Liste von Dictionaries\n",
    "    configurations = []\n",
    "    for index, config in config_list:\n",
    "        config['number'] = index\n",
    "        configurations.append(config)\n",
    "        \n",
    "    return pd.DataFrame(configurations)\n",
    "\n",
    "def get_configuration_by_number(df, number):\n",
    "    result = df[df['number'] == number]\n",
    "    if not result.empty:\n",
    "        return result\n",
    "    else:\n",
    "        return f\"No configuration found for number: {number}\"\n",
    "\n",
    "\n",
    "df_config = read_configurations(file_path)"
   ]
  },
  {
   "cell_type": "code",
   "execution_count": 54,
   "metadata": {},
   "outputs": [
    {
     "data": {
      "text/html": [
       "<div>\n",
       "<style scoped>\n",
       "    .dataframe tbody tr th:only-of-type {\n",
       "        vertical-align: middle;\n",
       "    }\n",
       "\n",
       "    .dataframe tbody tr th {\n",
       "        vertical-align: top;\n",
       "    }\n",
       "\n",
       "    .dataframe thead th {\n",
       "        text-align: right;\n",
       "    }\n",
       "</style>\n",
       "<table border=\"1\" class=\"dataframe\">\n",
       "  <thead>\n",
       "    <tr style=\"text-align: right;\">\n",
       "      <th></th>\n",
       "      <th>BATCH_SIZE</th>\n",
       "      <th>USE_L2_LOSS</th>\n",
       "      <th>N_EPOCHS</th>\n",
       "      <th>BATCHES_TO_PLOT</th>\n",
       "      <th>USE_BIAS_TERM</th>\n",
       "      <th>LEARNING_RATE</th>\n",
       "      <th>BETA_1</th>\n",
       "      <th>USE_SKIP_CONNECTIONS</th>\n",
       "      <th>DROPOUT_VALUE</th>\n",
       "      <th>KERNEL_SIZE</th>\n",
       "      <th>WEIGHT_DECAY</th>\n",
       "      <th>number</th>\n",
       "    </tr>\n",
       "  </thead>\n",
       "  <tbody>\n",
       "    <tr>\n",
       "      <th>22</th>\n",
       "      <td>1</td>\n",
       "      <td>True</td>\n",
       "      <td>50</td>\n",
       "      <td>128</td>\n",
       "      <td>True</td>\n",
       "      <td>0.00010000000000000000</td>\n",
       "      <td>0.50000000000000000000</td>\n",
       "      <td>True</td>\n",
       "      <td>0.59999999999999997780</td>\n",
       "      <td>4</td>\n",
       "      <td>0.00000000000000000000</td>\n",
       "      <td>22</td>\n",
       "    </tr>\n",
       "  </tbody>\n",
       "</table>\n",
       "</div>"
      ],
      "text/plain": [
       "    BATCH_SIZE  USE_L2_LOSS  N_EPOCHS  BATCHES_TO_PLOT  USE_BIAS_TERM  \\\n",
       "22           1         True        50              128           True   \n",
       "\n",
       "            LEARNING_RATE                 BETA_1  USE_SKIP_CONNECTIONS  \\\n",
       "22 0.00010000000000000000 0.50000000000000000000                  True   \n",
       "\n",
       "            DROPOUT_VALUE  KERNEL_SIZE           WEIGHT_DECAY  number  \n",
       "22 0.59999999999999997780            4 0.00000000000000000000      22  "
      ]
     },
     "execution_count": 54,
     "metadata": {},
     "output_type": "execute_result"
    }
   ],
   "source": [
    "number = 22 # best config from above\n",
    "configuration = get_configuration_by_number(df_config, number)\n",
    "configuration"
   ]
  },
  {
   "cell_type": "code",
   "execution_count": 9,
   "metadata": {},
   "outputs": [],
   "source": [
    "# filter to search for the config i need\n",
    "filtered_df = df_config[(   df_config['BATCH_SIZE'] == 1) & \n",
    "                     (      df_config['USE_L2_LOSS'] == True) & \n",
    "                     (      df_config['BETA_1'] == 0.5) &\n",
    "                     (      df_config['USE_BIAS_TERM']==True) &\n",
    "                     (      df_config['DROPOUT_VALUE']==0.5)]"
   ]
  },
  {
   "cell_type": "code",
   "execution_count": 10,
   "metadata": {},
   "outputs": [
    {
     "data": {
      "text/html": [
       "<div>\n",
       "<style scoped>\n",
       "    .dataframe tbody tr th:only-of-type {\n",
       "        vertical-align: middle;\n",
       "    }\n",
       "\n",
       "    .dataframe tbody tr th {\n",
       "        vertical-align: top;\n",
       "    }\n",
       "\n",
       "    .dataframe thead th {\n",
       "        text-align: right;\n",
       "    }\n",
       "</style>\n",
       "<table border=\"1\" class=\"dataframe\">\n",
       "  <thead>\n",
       "    <tr style=\"text-align: right;\">\n",
       "      <th></th>\n",
       "      <th>BATCH_SIZE</th>\n",
       "      <th>USE_L2_LOSS</th>\n",
       "      <th>N_EPOCHS</th>\n",
       "      <th>BATCHES_TO_PLOT</th>\n",
       "      <th>USE_BIAS_TERM</th>\n",
       "      <th>LEARNING_RATE</th>\n",
       "      <th>BETA_1</th>\n",
       "      <th>USE_SKIP_CONNECTIONS</th>\n",
       "      <th>DROPOUT_VALUE</th>\n",
       "      <th>KERNEL_SIZE</th>\n",
       "      <th>WEIGHT_DECAY</th>\n",
       "      <th>number</th>\n",
       "    </tr>\n",
       "  </thead>\n",
       "  <tbody>\n",
       "    <tr>\n",
       "      <th>4</th>\n",
       "      <td>1</td>\n",
       "      <td>True</td>\n",
       "      <td>40</td>\n",
       "      <td>128</td>\n",
       "      <td>True</td>\n",
       "      <td>0.00020000000000000001</td>\n",
       "      <td>0.50000000000000000000</td>\n",
       "      <td>True</td>\n",
       "      <td>0.50000000000000000000</td>\n",
       "      <td>3</td>\n",
       "      <td>0.00000000000000000000</td>\n",
       "      <td>4</td>\n",
       "    </tr>\n",
       "    <tr>\n",
       "      <th>5</th>\n",
       "      <td>1</td>\n",
       "      <td>True</td>\n",
       "      <td>40</td>\n",
       "      <td>128</td>\n",
       "      <td>True</td>\n",
       "      <td>0.00020000000000000001</td>\n",
       "      <td>0.50000000000000000000</td>\n",
       "      <td>True</td>\n",
       "      <td>0.50000000000000000000</td>\n",
       "      <td>3</td>\n",
       "      <td>0.00400000000000000008</td>\n",
       "      <td>5</td>\n",
       "    </tr>\n",
       "    <tr>\n",
       "      <th>6</th>\n",
       "      <td>1</td>\n",
       "      <td>True</td>\n",
       "      <td>40</td>\n",
       "      <td>128</td>\n",
       "      <td>True</td>\n",
       "      <td>0.00020000000000000001</td>\n",
       "      <td>0.50000000000000000000</td>\n",
       "      <td>True</td>\n",
       "      <td>0.50000000000000000000</td>\n",
       "      <td>4</td>\n",
       "      <td>0.00000000000000000000</td>\n",
       "      <td>6</td>\n",
       "    </tr>\n",
       "    <tr>\n",
       "      <th>7</th>\n",
       "      <td>1</td>\n",
       "      <td>True</td>\n",
       "      <td>40</td>\n",
       "      <td>128</td>\n",
       "      <td>True</td>\n",
       "      <td>0.00020000000000000001</td>\n",
       "      <td>0.50000000000000000000</td>\n",
       "      <td>True</td>\n",
       "      <td>0.50000000000000000000</td>\n",
       "      <td>4</td>\n",
       "      <td>0.00400000000000000008</td>\n",
       "      <td>7</td>\n",
       "    </tr>\n",
       "    <tr>\n",
       "      <th>16</th>\n",
       "      <td>1</td>\n",
       "      <td>True</td>\n",
       "      <td>40</td>\n",
       "      <td>128</td>\n",
       "      <td>True</td>\n",
       "      <td>0.00010000000000000000</td>\n",
       "      <td>0.50000000000000000000</td>\n",
       "      <td>True</td>\n",
       "      <td>0.50000000000000000000</td>\n",
       "      <td>3</td>\n",
       "      <td>0.00000000000000000000</td>\n",
       "      <td>16</td>\n",
       "    </tr>\n",
       "  </tbody>\n",
       "</table>\n",
       "</div>"
      ],
      "text/plain": [
       "    BATCH_SIZE  USE_L2_LOSS  N_EPOCHS  BATCHES_TO_PLOT  USE_BIAS_TERM  \\\n",
       "4            1         True        40              128           True   \n",
       "5            1         True        40              128           True   \n",
       "6            1         True        40              128           True   \n",
       "7            1         True        40              128           True   \n",
       "16           1         True        40              128           True   \n",
       "\n",
       "            LEARNING_RATE                 BETA_1  USE_SKIP_CONNECTIONS  \\\n",
       "4  0.00020000000000000001 0.50000000000000000000                  True   \n",
       "5  0.00020000000000000001 0.50000000000000000000                  True   \n",
       "6  0.00020000000000000001 0.50000000000000000000                  True   \n",
       "7  0.00020000000000000001 0.50000000000000000000                  True   \n",
       "16 0.00010000000000000000 0.50000000000000000000                  True   \n",
       "\n",
       "            DROPOUT_VALUE  KERNEL_SIZE           WEIGHT_DECAY  number  \n",
       "4  0.50000000000000000000            3 0.00000000000000000000       4  \n",
       "5  0.50000000000000000000            3 0.00400000000000000008       5  \n",
       "6  0.50000000000000000000            4 0.00000000000000000000       6  \n",
       "7  0.50000000000000000000            4 0.00400000000000000008       7  \n",
       "16 0.50000000000000000000            3 0.00000000000000000000      16  "
      ]
     },
     "execution_count": 10,
     "metadata": {},
     "output_type": "execute_result"
    }
   ],
   "source": [
    "filtered_df.head(5)"
   ]
  },
  {
   "cell_type": "markdown",
   "metadata": {},
   "source": [
    "# Evaluation of the Hyperparameters"
   ]
  },
  {
   "cell_type": "code",
   "execution_count": 155,
   "metadata": {},
   "outputs": [],
   "source": [
    "# join mse and config dataframe\n",
    "df_merged = pd.merge(df, df_config, left_index=True, right_index=True)"
   ]
  },
  {
   "cell_type": "code",
   "execution_count": 156,
   "metadata": {},
   "outputs": [
    {
     "data": {
      "text/html": [
       "<div>\n",
       "<style scoped>\n",
       "    .dataframe tbody tr th:only-of-type {\n",
       "        vertical-align: middle;\n",
       "    }\n",
       "\n",
       "    .dataframe tbody tr th {\n",
       "        vertical-align: top;\n",
       "    }\n",
       "\n",
       "    .dataframe thead th {\n",
       "        text-align: right;\n",
       "    }\n",
       "</style>\n",
       "<table border=\"1\" class=\"dataframe\">\n",
       "  <thead>\n",
       "    <tr style=\"text-align: right;\">\n",
       "      <th></th>\n",
       "      <th>folder</th>\n",
       "      <th>best_epoch</th>\n",
       "      <th>autoencoder_loss_train</th>\n",
       "      <th>autoencoder_loss_val</th>\n",
       "      <th>autoencoder_total_loss_test</th>\n",
       "      <th>l1_loss_train</th>\n",
       "      <th>l1_loss_val</th>\n",
       "      <th>l1_loss_test</th>\n",
       "      <th>l2_loss_train</th>\n",
       "      <th>l2_loss_val</th>\n",
       "      <th>...</th>\n",
       "      <th>USE_L2_LOSS</th>\n",
       "      <th>N_EPOCHS</th>\n",
       "      <th>BATCHES_TO_PLOT</th>\n",
       "      <th>USE_BIAS_TERM</th>\n",
       "      <th>USE_CUSTOM_DISTANCE_MEASURE</th>\n",
       "      <th>LEARNING_RATE</th>\n",
       "      <th>BETA_1</th>\n",
       "      <th>USE_SKIP_CONNECTIONS</th>\n",
       "      <th>DROPOUT_VALUE</th>\n",
       "      <th>number</th>\n",
       "    </tr>\n",
       "  </thead>\n",
       "  <tbody>\n",
       "    <tr>\n",
       "      <th>0</th>\n",
       "      <td>2024-05-27_12-09-09-872196</td>\n",
       "      <td>12</td>\n",
       "      <td>0.00342403813059550003</td>\n",
       "      <td>0.00367382499906750018</td>\n",
       "      <td>0.00363862072979960005</td>\n",
       "      <td>0.00342403813059550003</td>\n",
       "      <td>0.00367382499906750018</td>\n",
       "      <td>0.00363862072979960005</td>\n",
       "      <td>0.02974786145620069919</td>\n",
       "      <td>0.03050741222169659969</td>\n",
       "      <td>...</td>\n",
       "      <td>False</td>\n",
       "      <td>50</td>\n",
       "      <td>2</td>\n",
       "      <td>True</td>\n",
       "      <td>False</td>\n",
       "      <td>0.00020000000000000001</td>\n",
       "      <td>0.50000000000000000000</td>\n",
       "      <td>True</td>\n",
       "      <td>0.50000000000000000000</td>\n",
       "      <td>0</td>\n",
       "    </tr>\n",
       "    <tr>\n",
       "      <th>1</th>\n",
       "      <td>2024-05-27_12-25-59-155484</td>\n",
       "      <td>27</td>\n",
       "      <td>0.00239295413695179982</td>\n",
       "      <td>0.00322548989896420018</td>\n",
       "      <td>0.00318633627008500005</td>\n",
       "      <td>0.00239295413695179982</td>\n",
       "      <td>0.00322548989896420018</td>\n",
       "      <td>0.00318633627008500005</td>\n",
       "      <td>0.02407349735857490167</td>\n",
       "      <td>0.02809834480285640021</td>\n",
       "      <td>...</td>\n",
       "      <td>False</td>\n",
       "      <td>50</td>\n",
       "      <td>2</td>\n",
       "      <td>True</td>\n",
       "      <td>False</td>\n",
       "      <td>0.00020000000000000001</td>\n",
       "      <td>0.50000000000000000000</td>\n",
       "      <td>False</td>\n",
       "      <td>0.50000000000000000000</td>\n",
       "      <td>1</td>\n",
       "    </tr>\n",
       "    <tr>\n",
       "      <th>2</th>\n",
       "      <td>2024-05-27_12-52-53-990931</td>\n",
       "      <td>23</td>\n",
       "      <td>0.00283585087841290015</td>\n",
       "      <td>0.00325590096138140021</td>\n",
       "      <td>0.00323401446695679995</td>\n",
       "      <td>0.00283585087841290015</td>\n",
       "      <td>0.00325590096138140021</td>\n",
       "      <td>0.00323401446695679995</td>\n",
       "      <td>0.02617497999505339831</td>\n",
       "      <td>0.02767470147874619840</td>\n",
       "      <td>...</td>\n",
       "      <td>False</td>\n",
       "      <td>50</td>\n",
       "      <td>2</td>\n",
       "      <td>True</td>\n",
       "      <td>False</td>\n",
       "      <td>0.00020000000000000001</td>\n",
       "      <td>0.50000000000000000000</td>\n",
       "      <td>True</td>\n",
       "      <td>0.10000000000000000555</td>\n",
       "      <td>2</td>\n",
       "    </tr>\n",
       "    <tr>\n",
       "      <th>3</th>\n",
       "      <td>2024-05-27_13-21-18-196217</td>\n",
       "      <td>24</td>\n",
       "      <td>0.00268943027320150008</td>\n",
       "      <td>0.00334266242053769987</td>\n",
       "      <td>0.00333284807425949983</td>\n",
       "      <td>0.00268943027320150008</td>\n",
       "      <td>0.00334266242053769987</td>\n",
       "      <td>0.00333284807425949983</td>\n",
       "      <td>0.02435160449231000071</td>\n",
       "      <td>0.02812990215089580109</td>\n",
       "      <td>...</td>\n",
       "      <td>False</td>\n",
       "      <td>50</td>\n",
       "      <td>2</td>\n",
       "      <td>True</td>\n",
       "      <td>False</td>\n",
       "      <td>0.00020000000000000001</td>\n",
       "      <td>0.50000000000000000000</td>\n",
       "      <td>False</td>\n",
       "      <td>0.10000000000000000555</td>\n",
       "      <td>3</td>\n",
       "    </tr>\n",
       "    <tr>\n",
       "      <th>4</th>\n",
       "      <td>2024-05-27_13-45-29-550685</td>\n",
       "      <td>19</td>\n",
       "      <td>0.01859854119848530080</td>\n",
       "      <td>0.02138356588504930142</td>\n",
       "      <td>0.02127717821686350014</td>\n",
       "      <td>0.00240578325876740018</td>\n",
       "      <td>0.00278224602893540002</td>\n",
       "      <td>0.00275015996562109986</td>\n",
       "      <td>0.01859854119848530080</td>\n",
       "      <td>0.02138356588504930142</td>\n",
       "      <td>...</td>\n",
       "      <td>True</td>\n",
       "      <td>50</td>\n",
       "      <td>2</td>\n",
       "      <td>True</td>\n",
       "      <td>False</td>\n",
       "      <td>0.00020000000000000001</td>\n",
       "      <td>0.50000000000000000000</td>\n",
       "      <td>True</td>\n",
       "      <td>0.50000000000000000000</td>\n",
       "      <td>4</td>\n",
       "    </tr>\n",
       "    <tr>\n",
       "      <th>...</th>\n",
       "      <td>...</td>\n",
       "      <td>...</td>\n",
       "      <td>...</td>\n",
       "      <td>...</td>\n",
       "      <td>...</td>\n",
       "      <td>...</td>\n",
       "      <td>...</td>\n",
       "      <td>...</td>\n",
       "      <td>...</td>\n",
       "      <td>...</td>\n",
       "      <td>...</td>\n",
       "      <td>...</td>\n",
       "      <td>...</td>\n",
       "      <td>...</td>\n",
       "      <td>...</td>\n",
       "      <td>...</td>\n",
       "      <td>...</td>\n",
       "      <td>...</td>\n",
       "      <td>...</td>\n",
       "      <td>...</td>\n",
       "      <td>...</td>\n",
       "    </tr>\n",
       "    <tr>\n",
       "      <th>91</th>\n",
       "      <td>2024-05-30_21-03-23-849255</td>\n",
       "      <td>2</td>\n",
       "      <td>0.01654643267336949886</td>\n",
       "      <td>0.01660497011728770053</td>\n",
       "      <td>0.01649813734516999975</td>\n",
       "      <td>0.01654643267336949886</td>\n",
       "      <td>0.01660497011728770053</td>\n",
       "      <td>0.01649813734516999975</td>\n",
       "      <td>0.08708146642371790425</td>\n",
       "      <td>0.08726614642024420332</td>\n",
       "      <td>...</td>\n",
       "      <td>False</td>\n",
       "      <td>50</td>\n",
       "      <td>128</td>\n",
       "      <td>False</td>\n",
       "      <td>False</td>\n",
       "      <td>0.00001000000000000000</td>\n",
       "      <td>0.90000000000000002220</td>\n",
       "      <td>False</td>\n",
       "      <td>0.10000000000000000555</td>\n",
       "      <td>91</td>\n",
       "    </tr>\n",
       "    <tr>\n",
       "      <th>92</th>\n",
       "      <td>2024-05-30_21-27-50-187806</td>\n",
       "      <td>22</td>\n",
       "      <td>0.01020554713965689947</td>\n",
       "      <td>0.01532271515760410055</td>\n",
       "      <td>0.01522534811332469998</td>\n",
       "      <td>0.00152691152433910007</td>\n",
       "      <td>0.00203960936497950013</td>\n",
       "      <td>0.00200930049921960001</td>\n",
       "      <td>0.01020554713965689947</td>\n",
       "      <td>0.01532271515760410055</td>\n",
       "      <td>...</td>\n",
       "      <td>True</td>\n",
       "      <td>50</td>\n",
       "      <td>128</td>\n",
       "      <td>False</td>\n",
       "      <td>False</td>\n",
       "      <td>0.00001000000000000000</td>\n",
       "      <td>0.90000000000000002220</td>\n",
       "      <td>True</td>\n",
       "      <td>0.50000000000000000000</td>\n",
       "      <td>92</td>\n",
       "    </tr>\n",
       "    <tr>\n",
       "      <th>93</th>\n",
       "      <td>2024-05-30_23-32-30-209294</td>\n",
       "      <td>3</td>\n",
       "      <td>0.08672320592674440110</td>\n",
       "      <td>0.08693969511838990638</td>\n",
       "      <td>0.08654245663444090630</td>\n",
       "      <td>0.01654832061549069838</td>\n",
       "      <td>0.01660742154396789919</td>\n",
       "      <td>0.01650030806560169941</td>\n",
       "      <td>0.08672320592674440110</td>\n",
       "      <td>0.08693969511838990638</td>\n",
       "      <td>...</td>\n",
       "      <td>True</td>\n",
       "      <td>50</td>\n",
       "      <td>128</td>\n",
       "      <td>False</td>\n",
       "      <td>False</td>\n",
       "      <td>0.00001000000000000000</td>\n",
       "      <td>0.90000000000000002220</td>\n",
       "      <td>False</td>\n",
       "      <td>0.50000000000000000000</td>\n",
       "      <td>93</td>\n",
       "    </tr>\n",
       "    <tr>\n",
       "      <th>94</th>\n",
       "      <td>2024-05-31_00-01-09-187432</td>\n",
       "      <td>27</td>\n",
       "      <td>0.00935629423112959921</td>\n",
       "      <td>0.01438620530136579950</td>\n",
       "      <td>0.01438336133327829981</td>\n",
       "      <td>0.00148141631198390003</td>\n",
       "      <td>0.00199971538734930020</td>\n",
       "      <td>0.00197946162071440009</td>\n",
       "      <td>0.00935629423112959921</td>\n",
       "      <td>0.01438620530136579950</td>\n",
       "      <td>...</td>\n",
       "      <td>True</td>\n",
       "      <td>50</td>\n",
       "      <td>128</td>\n",
       "      <td>False</td>\n",
       "      <td>False</td>\n",
       "      <td>0.00001000000000000000</td>\n",
       "      <td>0.90000000000000002220</td>\n",
       "      <td>True</td>\n",
       "      <td>0.10000000000000000555</td>\n",
       "      <td>94</td>\n",
       "    </tr>\n",
       "    <tr>\n",
       "      <th>95</th>\n",
       "      <td>2024-05-31_02-29-21-479233</td>\n",
       "      <td>3</td>\n",
       "      <td>0.08672320592674440110</td>\n",
       "      <td>0.08693969511838990638</td>\n",
       "      <td>0.08654245663444090630</td>\n",
       "      <td>0.01654832061549069838</td>\n",
       "      <td>0.01660742154396789919</td>\n",
       "      <td>0.01650030806560169941</td>\n",
       "      <td>0.08672320592674440110</td>\n",
       "      <td>0.08693969511838990638</td>\n",
       "      <td>...</td>\n",
       "      <td>True</td>\n",
       "      <td>50</td>\n",
       "      <td>128</td>\n",
       "      <td>False</td>\n",
       "      <td>False</td>\n",
       "      <td>0.00001000000000000000</td>\n",
       "      <td>0.90000000000000002220</td>\n",
       "      <td>False</td>\n",
       "      <td>0.10000000000000000555</td>\n",
       "      <td>95</td>\n",
       "    </tr>\n",
       "  </tbody>\n",
       "</table>\n",
       "<p>96 rows × 26 columns</p>\n",
       "</div>"
      ],
      "text/plain": [
       "                        folder  best_epoch  autoencoder_loss_train  \\\n",
       "0   2024-05-27_12-09-09-872196          12  0.00342403813059550003   \n",
       "1   2024-05-27_12-25-59-155484          27  0.00239295413695179982   \n",
       "2   2024-05-27_12-52-53-990931          23  0.00283585087841290015   \n",
       "3   2024-05-27_13-21-18-196217          24  0.00268943027320150008   \n",
       "4   2024-05-27_13-45-29-550685          19  0.01859854119848530080   \n",
       "..                         ...         ...                     ...   \n",
       "91  2024-05-30_21-03-23-849255           2  0.01654643267336949886   \n",
       "92  2024-05-30_21-27-50-187806          22  0.01020554713965689947   \n",
       "93  2024-05-30_23-32-30-209294           3  0.08672320592674440110   \n",
       "94  2024-05-31_00-01-09-187432          27  0.00935629423112959921   \n",
       "95  2024-05-31_02-29-21-479233           3  0.08672320592674440110   \n",
       "\n",
       "     autoencoder_loss_val  autoencoder_total_loss_test          l1_loss_train  \\\n",
       "0  0.00367382499906750018       0.00363862072979960005 0.00342403813059550003   \n",
       "1  0.00322548989896420018       0.00318633627008500005 0.00239295413695179982   \n",
       "2  0.00325590096138140021       0.00323401446695679995 0.00283585087841290015   \n",
       "3  0.00334266242053769987       0.00333284807425949983 0.00268943027320150008   \n",
       "4  0.02138356588504930142       0.02127717821686350014 0.00240578325876740018   \n",
       "..                    ...                          ...                    ...   \n",
       "91 0.01660497011728770053       0.01649813734516999975 0.01654643267336949886   \n",
       "92 0.01532271515760410055       0.01522534811332469998 0.00152691152433910007   \n",
       "93 0.08693969511838990638       0.08654245663444090630 0.01654832061549069838   \n",
       "94 0.01438620530136579950       0.01438336133327829981 0.00148141631198390003   \n",
       "95 0.08693969511838990638       0.08654245663444090630 0.01654832061549069838   \n",
       "\n",
       "              l1_loss_val           l1_loss_test          l2_loss_train  \\\n",
       "0  0.00367382499906750018 0.00363862072979960005 0.02974786145620069919   \n",
       "1  0.00322548989896420018 0.00318633627008500005 0.02407349735857490167   \n",
       "2  0.00325590096138140021 0.00323401446695679995 0.02617497999505339831   \n",
       "3  0.00334266242053769987 0.00333284807425949983 0.02435160449231000071   \n",
       "4  0.00278224602893540002 0.00275015996562109986 0.01859854119848530080   \n",
       "..                    ...                    ...                    ...   \n",
       "91 0.01660497011728770053 0.01649813734516999975 0.08708146642371790425   \n",
       "92 0.00203960936497950013 0.00200930049921960001 0.01020554713965689947   \n",
       "93 0.01660742154396789919 0.01650030806560169941 0.08672320592674440110   \n",
       "94 0.00199971538734930020 0.00197946162071440009 0.00935629423112959921   \n",
       "95 0.01660742154396789919 0.01650030806560169941 0.08672320592674440110   \n",
       "\n",
       "              l2_loss_val  ...  USE_L2_LOSS  N_EPOCHS  BATCHES_TO_PLOT  \\\n",
       "0  0.03050741222169659969  ...        False        50                2   \n",
       "1  0.02809834480285640021  ...        False        50                2   \n",
       "2  0.02767470147874619840  ...        False        50                2   \n",
       "3  0.02812990215089580109  ...        False        50                2   \n",
       "4  0.02138356588504930142  ...         True        50                2   \n",
       "..                    ...  ...          ...       ...              ...   \n",
       "91 0.08726614642024420332  ...        False        50              128   \n",
       "92 0.01532271515760410055  ...         True        50              128   \n",
       "93 0.08693969511838990638  ...         True        50              128   \n",
       "94 0.01438620530136579950  ...         True        50              128   \n",
       "95 0.08693969511838990638  ...         True        50              128   \n",
       "\n",
       "    USE_BIAS_TERM  USE_CUSTOM_DISTANCE_MEASURE          LEARNING_RATE  \\\n",
       "0            True                        False 0.00020000000000000001   \n",
       "1            True                        False 0.00020000000000000001   \n",
       "2            True                        False 0.00020000000000000001   \n",
       "3            True                        False 0.00020000000000000001   \n",
       "4            True                        False 0.00020000000000000001   \n",
       "..            ...                          ...                    ...   \n",
       "91          False                        False 0.00001000000000000000   \n",
       "92          False                        False 0.00001000000000000000   \n",
       "93          False                        False 0.00001000000000000000   \n",
       "94          False                        False 0.00001000000000000000   \n",
       "95          False                        False 0.00001000000000000000   \n",
       "\n",
       "                   BETA_1  USE_SKIP_CONNECTIONS          DROPOUT_VALUE  number  \n",
       "0  0.50000000000000000000                  True 0.50000000000000000000       0  \n",
       "1  0.50000000000000000000                 False 0.50000000000000000000       1  \n",
       "2  0.50000000000000000000                  True 0.10000000000000000555       2  \n",
       "3  0.50000000000000000000                 False 0.10000000000000000555       3  \n",
       "4  0.50000000000000000000                  True 0.50000000000000000000       4  \n",
       "..                    ...                   ...                    ...     ...  \n",
       "91 0.90000000000000002220                 False 0.10000000000000000555      91  \n",
       "92 0.90000000000000002220                  True 0.50000000000000000000      92  \n",
       "93 0.90000000000000002220                 False 0.50000000000000000000      93  \n",
       "94 0.90000000000000002220                  True 0.10000000000000000555      94  \n",
       "95 0.90000000000000002220                 False 0.10000000000000000555      95  \n",
       "\n",
       "[96 rows x 26 columns]"
      ]
     },
     "execution_count": 156,
     "metadata": {},
     "output_type": "execute_result"
    }
   ],
   "source": [
    "df_merged"
   ]
  },
  {
   "cell_type": "code",
   "execution_count": 157,
   "metadata": {},
   "outputs": [
    {
     "data": {
      "text/html": [
       "<div>\n",
       "<style scoped>\n",
       "    .dataframe tbody tr th:only-of-type {\n",
       "        vertical-align: middle;\n",
       "    }\n",
       "\n",
       "    .dataframe tbody tr th {\n",
       "        vertical-align: top;\n",
       "    }\n",
       "\n",
       "    .dataframe thead th {\n",
       "        text-align: right;\n",
       "    }\n",
       "</style>\n",
       "<table border=\"1\" class=\"dataframe\">\n",
       "  <thead>\n",
       "    <tr style=\"text-align: right;\">\n",
       "      <th></th>\n",
       "      <th>folder</th>\n",
       "      <th>best_epoch</th>\n",
       "      <th>autoencoder_loss_train</th>\n",
       "      <th>autoencoder_loss_val</th>\n",
       "      <th>autoencoder_total_loss_test</th>\n",
       "      <th>l1_loss_train</th>\n",
       "      <th>l1_loss_val</th>\n",
       "      <th>l1_loss_test</th>\n",
       "      <th>l2_loss_train</th>\n",
       "      <th>l2_loss_val</th>\n",
       "      <th>...</th>\n",
       "      <th>USE_L2_LOSS</th>\n",
       "      <th>N_EPOCHS</th>\n",
       "      <th>BATCHES_TO_PLOT</th>\n",
       "      <th>USE_BIAS_TERM</th>\n",
       "      <th>USE_CUSTOM_DISTANCE_MEASURE</th>\n",
       "      <th>LEARNING_RATE</th>\n",
       "      <th>BETA_1</th>\n",
       "      <th>USE_SKIP_CONNECTIONS</th>\n",
       "      <th>DROPOUT_VALUE</th>\n",
       "      <th>number</th>\n",
       "    </tr>\n",
       "  </thead>\n",
       "  <tbody>\n",
       "    <tr>\n",
       "      <th>88</th>\n",
       "      <td>2024-05-30_14-17-54-309773</td>\n",
       "      <td>40</td>\n",
       "      <td>0.00075229707786650000</td>\n",
       "      <td>0.00153873240063520005</td>\n",
       "      <td>0.00155128687576469994</td>\n",
       "      <td>0.00075229707786650000</td>\n",
       "      <td>0.00153873240063520005</td>\n",
       "      <td>0.00155128687576469994</td>\n",
       "      <td>0.00999782367232390085</td>\n",
       "      <td>0.01447819083780529925</td>\n",
       "      <td>...</td>\n",
       "      <td>False</td>\n",
       "      <td>50</td>\n",
       "      <td>128</td>\n",
       "      <td>False</td>\n",
       "      <td>False</td>\n",
       "      <td>0.00001000000000000000</td>\n",
       "      <td>0.90000000000000002220</td>\n",
       "      <td>True</td>\n",
       "      <td>0.50000000000000000000</td>\n",
       "      <td>88</td>\n",
       "    </tr>\n",
       "  </tbody>\n",
       "</table>\n",
       "<p>1 rows × 26 columns</p>\n",
       "</div>"
      ],
      "text/plain": [
       "                        folder  best_epoch  autoencoder_loss_train  \\\n",
       "88  2024-05-30_14-17-54-309773          40  0.00075229707786650000   \n",
       "\n",
       "     autoencoder_loss_val  autoencoder_total_loss_test          l1_loss_train  \\\n",
       "88 0.00153873240063520005       0.00155128687576469994 0.00075229707786650000   \n",
       "\n",
       "              l1_loss_val           l1_loss_test          l2_loss_train  \\\n",
       "88 0.00153873240063520005 0.00155128687576469994 0.00999782367232390085   \n",
       "\n",
       "              l2_loss_val  ...  USE_L2_LOSS  N_EPOCHS  BATCHES_TO_PLOT  \\\n",
       "88 0.01447819083780529925  ...        False        50              128   \n",
       "\n",
       "    USE_BIAS_TERM  USE_CUSTOM_DISTANCE_MEASURE          LEARNING_RATE  \\\n",
       "88          False                        False 0.00001000000000000000   \n",
       "\n",
       "                   BETA_1  USE_SKIP_CONNECTIONS          DROPOUT_VALUE  number  \n",
       "88 0.90000000000000002220                  True 0.50000000000000000000      88  \n",
       "\n",
       "[1 rows x 26 columns]"
      ]
     },
     "execution_count": 157,
     "metadata": {},
     "output_type": "execute_result"
    }
   ],
   "source": [
    "df_sorted_mse = df_merged.sort_values(by=\"l1_loss_test\", ascending=True) # l1 equal mse\n",
    "df_sorted_mse.head(1)"
   ]
  },
  {
   "cell_type": "code",
   "execution_count": 158,
   "metadata": {},
   "outputs": [],
   "source": [
    "# sort out irrelevant rows\n",
    "columns_to_drop = ['autoencoder_loss_train', 'autoencoder_loss_val', 'autoencoder_total_loss_test', 'BATCHES_TO_PLOT', 'USE_CUSTOM_DISTANCE_MEASURE', 'LAMBDA']\n",
    "# Entfernen der Spalten\n",
    "df_sorted_mse = df_sorted_mse.drop(columns_to_drop, axis=1)"
   ]
  },
  {
   "cell_type": "code",
   "execution_count": 159,
   "metadata": {},
   "outputs": [
    {
     "data": {
      "text/html": [
       "<div>\n",
       "<style scoped>\n",
       "    .dataframe tbody tr th:only-of-type {\n",
       "        vertical-align: middle;\n",
       "    }\n",
       "\n",
       "    .dataframe tbody tr th {\n",
       "        vertical-align: top;\n",
       "    }\n",
       "\n",
       "    .dataframe thead th {\n",
       "        text-align: right;\n",
       "    }\n",
       "</style>\n",
       "<table border=\"1\" class=\"dataframe\">\n",
       "  <thead>\n",
       "    <tr style=\"text-align: right;\">\n",
       "      <th></th>\n",
       "      <th>folder</th>\n",
       "      <th>best_epoch</th>\n",
       "      <th>l1_loss_train</th>\n",
       "      <th>l1_loss_val</th>\n",
       "      <th>l1_loss_test</th>\n",
       "      <th>l2_loss_train</th>\n",
       "      <th>l2_loss_val</th>\n",
       "      <th>l2_loss_test</th>\n",
       "      <th>ssim_train</th>\n",
       "      <th>ssim_val</th>\n",
       "      <th>ssim_test</th>\n",
       "      <th>BATCH_SIZE</th>\n",
       "      <th>USE_L2_LOSS</th>\n",
       "      <th>N_EPOCHS</th>\n",
       "      <th>USE_BIAS_TERM</th>\n",
       "      <th>LEARNING_RATE</th>\n",
       "      <th>BETA_1</th>\n",
       "      <th>USE_SKIP_CONNECTIONS</th>\n",
       "      <th>DROPOUT_VALUE</th>\n",
       "      <th>number</th>\n",
       "    </tr>\n",
       "  </thead>\n",
       "  <tbody>\n",
       "    <tr>\n",
       "      <th>88</th>\n",
       "      <td>2024-05-30_14-17-54-309773</td>\n",
       "      <td>40</td>\n",
       "      <td>0.00075229707786650000</td>\n",
       "      <td>0.00153873240063520005</td>\n",
       "      <td>0.00155128687576469994</td>\n",
       "      <td>0.00999782367232390085</td>\n",
       "      <td>0.01447819083780529925</td>\n",
       "      <td>0.01456810071369789988</td>\n",
       "      <td>0.98403067002418043163</td>\n",
       "      <td>0.97964582449178561063</td>\n",
       "      <td>0.97961079487175717340</td>\n",
       "      <td>1</td>\n",
       "      <td>False</td>\n",
       "      <td>50</td>\n",
       "      <td>False</td>\n",
       "      <td>0.00001000000000000000</td>\n",
       "      <td>0.90000000000000002220</td>\n",
       "      <td>True</td>\n",
       "      <td>0.50000000000000000000</td>\n",
       "      <td>88</td>\n",
       "    </tr>\n",
       "  </tbody>\n",
       "</table>\n",
       "</div>"
      ],
      "text/plain": [
       "                        folder  best_epoch          l1_loss_train  \\\n",
       "88  2024-05-30_14-17-54-309773          40 0.00075229707786650000   \n",
       "\n",
       "              l1_loss_val           l1_loss_test          l2_loss_train  \\\n",
       "88 0.00153873240063520005 0.00155128687576469994 0.00999782367232390085   \n",
       "\n",
       "              l2_loss_val           l2_loss_test             ssim_train  \\\n",
       "88 0.01447819083780529925 0.01456810071369789988 0.98403067002418043163   \n",
       "\n",
       "                 ssim_val              ssim_test  BATCH_SIZE  USE_L2_LOSS  \\\n",
       "88 0.97964582449178561063 0.97961079487175717340           1        False   \n",
       "\n",
       "    N_EPOCHS  USE_BIAS_TERM          LEARNING_RATE                 BETA_1  \\\n",
       "88        50          False 0.00001000000000000000 0.90000000000000002220   \n",
       "\n",
       "    USE_SKIP_CONNECTIONS          DROPOUT_VALUE  number  \n",
       "88                  True 0.50000000000000000000      88  "
      ]
     },
     "execution_count": 159,
     "metadata": {},
     "output_type": "execute_result"
    }
   ],
   "source": [
    "df_sorted_mse.head(1)\n"
   ]
  },
  {
   "cell_type": "markdown",
   "metadata": {},
   "source": [
    "# Analyse the Hyperparameters"
   ]
  },
  {
   "cell_type": "markdown",
   "metadata": {},
   "source": [
    "Attention L1 loss was MSE change 19.06"
   ]
  },
  {
   "cell_type": "markdown",
   "metadata": {},
   "source": [
    "#### Batch size"
   ]
  },
  {
   "cell_type": "code",
   "execution_count": 160,
   "metadata": {},
   "outputs": [
    {
     "data": {
      "image/png": "[encoded data removed]",
      "text/plain": [
       "<Figure size 600x300 with 1 Axes>"
      ]
     },
     "metadata": {},
     "output_type": "display_data"
    }
   ],
   "source": [
    "plt.figure(figsize=(6, 3))  # Breitere Darstellung für horizontalen Boxplot\n",
    "flierprops = dict(marker='x', color='red', markersize=5)\n",
    "sns.boxplot(y='BATCH_SIZE', x='l2_loss_test', data=df_sorted_mse, orient='h')  # 'orient' auf 'h' setzen für horizontalen Boxplot\n",
    "plt.ylabel('Batch Size')\n",
    "plt.xlabel('MSE')\n",
    "plt.tight_layout()  # Layout optimieren\n",
    "plt.show()"
   ]
  },
  {
   "cell_type": "markdown",
   "metadata": {},
   "source": [
    "Batch_Size 1 is not common but much better than 64. Do not train 64 anymore, try maybe another small one like 8."
   ]
  },
  {
   "cell_type": "markdown",
   "metadata": {},
   "source": [
    "#### Lossfunktion"
   ]
  },
  {
   "cell_type": "code",
   "execution_count": 173,
   "metadata": {},
   "outputs": [
    {
     "data": {
      "image/png": "[encoded data removed]",
      "text/plain": [
       "<Figure size 600x300 with 1 Axes>"
      ]
     },
     "metadata": {},
     "output_type": "display_data"
    }
   ],
   "source": [
    "plt.figure(figsize=(6, 3))  # Breitere Darstellung für horizontalen Boxplot\n",
    "flierprops = dict(marker='x', color='red', markersize=5)\n",
    "sns.boxplot(y='USE_L2_LOSS', x='l1_loss_test', data=df_sorted_mse, orient='h', flierprops=flierprops)  # 'orient' auf 'h' setzen für horizontalen Boxplot\n",
    "plt.ylabel('Use L2 Loss')\n",
    "plt.xlabel('MSE Test')\n",
    "plt.grid(True, linestyle='--', linewidth=0.7)\n",
    "plt.tight_layout()  # Layout optimieren\n",
    "plt.show()\n"
   ]
  },
  {
   "cell_type": "markdown",
   "metadata": {},
   "source": [
    "We get the best result with MSE Lossfunction because of one outliner. But in general there is not a big difference between both of them."
   ]
  },
  {
   "cell_type": "markdown",
   "metadata": {},
   "source": [
    "#### Lernrate"
   ]
  },
  {
   "cell_type": "code",
   "execution_count": 106,
   "metadata": {},
   "outputs": [
    {
     "data": {
      "image/png": "[encoded data removed]",
      "text/plain": [
       "<Figure size 1200x600 with 1 Axes>"
      ]
     },
     "metadata": {},
     "output_type": "display_data"
    }
   ],
   "source": [
    "# Learning Rate\n",
    "plt.figure(figsize=(12, 6))\n",
    "sns.boxplot(x='LEARNING_RATE', y='l1_loss_test', data=df_sorted_mse)\n",
    "plt.grid(True)\n",
    "plt.show()"
   ]
  },
  {
   "cell_type": "markdown",
   "metadata": {},
   "source": [
    "0,00001.| 0.0002 | 0.001\n",
    "Learning_rate 0.0002 the best but different."
   ]
  },
  {
   "cell_type": "markdown",
   "metadata": {},
   "source": [
    "##### SkipConnections"
   ]
  },
  {
   "cell_type": "code",
   "execution_count": 144,
   "metadata": {},
   "outputs": [
    {
     "data": {
      "image/png": "[encoded data removed]",
      "text/plain": [
       "<Figure size 600x300 with 1 Axes>"
      ]
     },
     "metadata": {},
     "output_type": "display_data"
    }
   ],
   "source": [
    "plt.figure(figsize=(6, 3))  # Breitere Darstellung für horizontalen Boxplot\n",
    "sns.boxplot(y='USE_SKIP_CONNECTIONS', x='l1_loss_test', data=df_sorted_mse, orient='h')  # 'orient' auf 'h' setzen für horizontalen Boxplot\n",
    "plt.ylabel('')\n",
    "plt.xlabel('MSE')\n",
    "plt.tight_layout()  # Layout optimieren\n",
    "plt.show()\n"
   ]
  },
  {
   "cell_type": "markdown",
   "metadata": {},
   "source": [
    "#### Bias Term"
   ]
  },
  {
   "cell_type": "code",
   "execution_count": 150,
   "metadata": {},
   "outputs": [
    {
     "data": {
      "image/png": "[encoded data removed]",
      "text/plain": [
       "<Figure size 1200x600 with 1 Axes>"
      ]
     },
     "metadata": {},
     "output_type": "display_data"
    }
   ],
   "source": [
    "# USE_Bias_CONNECTIONS\n",
    "plt.figure(figsize=(12, 6))\n",
    "sns.boxplot(x='USE_BIAS_TERM', y='l1_loss_test', data=df_sorted_mse)\n",
    "plt.show()"
   ]
  },
  {
   "cell_type": "code",
   "execution_count": 22,
   "metadata": {},
   "outputs": [],
   "source": [
    "columns_to_drop = ['number', 'N_EPOCHS', 'l1_loss_train','l1_loss_val', 'l2_loss_train','l2_loss_val', 'ssim_train','ssim_val','ssim_test', 'best_epoch','l2_loss_test']\n",
    "df_sorted_heatmap = df_sorted_mse.drop(columns_to_drop, axis=1)"
   ]
  },
  {
   "cell_type": "code",
   "execution_count": 23,
   "metadata": {},
   "outputs": [
    {
     "data": {
      "image/png": "[encoded data removed]",
      "text/plain": [
       "<Figure size 1000x800 with 2 Axes>"
      ]
     },
     "metadata": {},
     "output_type": "display_data"
    }
   ],
   "source": [
    "plt.figure(figsize=(10, 8))\n",
    "sns.heatmap(df_sorted_heatmap.corr(numeric_only=True), annot=True)\n",
    "plt.show()"
   ]
  }
 ],
 "metadata": {
  "kernelspec": {
   "display_name": "Python 3",
   "language": "python",
   "name": "python3"
  },
  "language_info": {
   "codemirror_mode": {
    "name": "ipython",
    "version": 3
   },
   "file_extension": ".py",
   "mimetype": "text/x-python",
   "name": "python",
   "nbconvert_exporter": "python",
   "pygments_lexer": "ipython3",
   "version": "3.10.11"
  }
 },
 "nbformat": 4,
 "nbformat_minor": 2
}
